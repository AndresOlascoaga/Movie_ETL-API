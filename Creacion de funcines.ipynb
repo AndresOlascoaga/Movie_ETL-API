{
 "cells": [
  {
   "cell_type": "code",
   "execution_count": 1,
   "metadata": {},
   "outputs": [
    {
     "data": {
      "text/plain": [
       "'es_ES'"
      ]
     },
     "execution_count": 1,
     "metadata": {},
     "output_type": "execute_result"
    }
   ],
   "source": [
    "import pandas as pd\n",
    "import calendar\n",
    "import locale\n",
    "\n",
    "# Establecer el idioma a español\n",
    "locale.setlocale(locale.LC_TIME, 'es_ES')"
   ]
  },
  {
   "cell_type": "code",
   "execution_count": 2,
   "metadata": {},
   "outputs": [],
   "source": [
    "df_movies = pd.read_csv('ETL\\movies_ETL.csv')"
   ]
  },
  {
   "attachments": {},
   "cell_type": "markdown",
   "metadata": {},
   "source": [
    "## FECHA"
   ]
  },
  {
   "cell_type": "code",
   "execution_count": 3,
   "metadata": {},
   "outputs": [],
   "source": [
    "def cantidad_filmaciones_mes(mes):\n",
    "\n",
    "    # Convertir la columna 'release_date' al tipo de dato de fecha\n",
    "    df_movies['release_date'] = pd.to_datetime(df_movies['release_date'])\n",
    "\n",
    "    # Obtener el nombre del mes de la columna 'release_date'\n",
    "    df_movies['nombre_mes'] = df_movies['release_date'].dt.strftime('%B')\n",
    "\n",
    "    # Convertir el mes consultado a minúsculas\n",
    "    mes = mes.lower()\n",
    "\n",
    "    # Filtrar las películas estrenadas en el mes consultado\n",
    "    peliculas_mes = (df_movies['nombre_mes'] == mes).sum()\n",
    "\n",
    "    # Devolver el resultado\n",
    "    return f\"{peliculas_mes} películas fueron estrenadas en el mes de {mes}\"\n"
   ]
  },
  {
   "cell_type": "code",
   "execution_count": 4,
   "metadata": {},
   "outputs": [
    {
     "name": "stdout",
     "output_type": "stream",
     "text": [
      "3786 películas fueron estrenadas en el mes de diciembre\n"
     ]
    }
   ],
   "source": [
    "# Ejemplo de uso\n",
    "cantidad = cantidad_filmaciones_mes('DICIEMBRE')\n",
    "print(cantidad)\n"
   ]
  },
  {
   "cell_type": "code",
   "execution_count": 5,
   "metadata": {},
   "outputs": [],
   "source": [
    "def cantidad_filmaciones_dia( Dia ):\n",
    "    \n",
    "     # Convertir la columna 'release_date' al tipo de dato de fecha\n",
    "    df_movies['release_date'] = pd.to_datetime(df_movies['release_date'])\n",
    "\n",
    "    # Filtrar las películas estrenadas en el mes consultado\n",
    "    peliculas_dia= (df_movies['release_date'].dt.day== Dia).sum()\n",
    "\n",
    "    # Devolver el resultado\n",
    "    return f\"{peliculas_dia} películas fueron estrenadas en el día {Dia}\""
   ]
  },
  {
   "cell_type": "code",
   "execution_count": 6,
   "metadata": {},
   "outputs": [
    {
     "name": "stdout",
     "output_type": "stream",
     "text": [
      "5838 películas fueron estrenadas en el día 1\n"
     ]
    }
   ],
   "source": [
    "# Ejemplo de uso\n",
    "cantidad = cantidad_filmaciones_dia(1)\n",
    "print(cantidad)"
   ]
  },
  {
   "attachments": {},
   "cell_type": "markdown",
   "metadata": {},
   "source": [
    "## POPULARIDAD"
   ]
  },
  {
   "cell_type": "code",
   "execution_count": 7,
   "metadata": {},
   "outputs": [],
   "source": [
    "def score_titulo( titulo_de_la_filmación ):\n",
    "    import pandas as pd\n",
    "    \n",
    "    # Cargar el dataframe desde tu origen de datos\n",
    "    dataframe = pd.read_csv('ETL/movies_ETL.csv')\n",
    "\n",
    "    #usamos loc para ubicar la popularidad por el titulo, dado que hay varias, ademas se usa mean para sacar un promedio de la popularidad de la pelicual \n",
    "    popularidad = df_movies.loc[df_movies['title'] == titulo_de_la_filmación, 'popularity'].mean()\n",
    "\n",
    "    # Devolver el resultado\n",
    "    return f\"la pelicula {titulo_de_la_filmación} tiene {popularidad} puntos de popularidad\"\n",
    "    "
   ]
  },
  {
   "cell_type": "code",
   "execution_count": 8,
   "metadata": {},
   "outputs": [
    {
     "name": "stdout",
     "output_type": "stream",
     "text": [
      "la pelicula The Scarlet Letter tiene 1.8679005000000002 puntos de popularidad\n"
     ]
    }
   ],
   "source": [
    "# Ejemplo de uso\n",
    "popularidad = score_titulo('The Scarlet Letter')\n",
    "print(popularidad)"
   ]
  },
  {
   "attachments": {},
   "cell_type": "markdown",
   "metadata": {},
   "source": [
    "## VOTOS"
   ]
  },
  {
   "cell_type": "code",
   "execution_count": 35,
   "metadata": {},
   "outputs": [],
   "source": [
    "def votos_titulo(titulo_de_la_filmación):\n",
    "    # Filtrar el DataFrame por el título dado \n",
    "    # hacemos que sea tolerante a espacios al inicio o al final del nombre, a datos que no sean de tipo str y a las mayusculas\n",
    "    filtro = df_movies['title'].str.strip().str.lower() == str(titulo_de_la_filmación).strip().lower()\n",
    "    df_filtrado = df_movies[filtro]\n",
    "    \n",
    "\n",
    "    if df_filtrado.empty:\n",
    "        # Si no se encuentra el título en el DataFrame\n",
    "        return \"No se encontró ninguna filmación con ese título.\"\n",
    "\n",
    "    # Obtener el número de votos y promedio de votos\n",
    "    votos = df_filtrado['vote_count'].values[0]\n",
    "    promedio_votos = df_filtrado['vote_average'].values[0]\n",
    "\n",
    "    if votos < 2000:\n",
    "        # Si el número de votos es menor a 2000, mostrar mensaje y retornar None\n",
    "        return \"La filmación no tiene suficientes valoraciones (menos de 2000).\"\n",
    "    \n",
    "    año = df_filtrado['release_year'].values[0]\n",
    "    # Retornar el título, cantidad de votos y promedio de votos en un diccionario\n",
    "    return f'La película {titulo_de_la_filmación} fue estrenada en el año {año} . La misma cuenta con un total de {votos} valoraciones, con un promedio de {promedio_votos}'\n",
    "\n"
   ]
  },
  {
   "cell_type": "code",
   "execution_count": 37,
   "metadata": {},
   "outputs": [
    {
     "name": "stdout",
     "output_type": "stream",
     "text": [
      "La filmación no tiene suficientes valoraciones (menos de 2000).\n"
     ]
    }
   ],
   "source": [
    "# Ejemplo de uso\n",
    "resultado = votos_titulo('Grumpier Old Men ')\n",
    "print(resultado)"
   ]
  },
  {
   "cell_type": "code",
   "execution_count": 10,
   "metadata": {},
   "outputs": [],
   "source": [
    "pd.set_option('display.max_columns', None)"
   ]
  },
  {
   "attachments": {},
   "cell_type": "markdown",
   "metadata": {},
   "source": []
  },
  {
   "attachments": {},
   "cell_type": "markdown",
   "metadata": {},
   "source": [
    "def get_actor( nombre_actor ): Se ingresa el nombre de un actor que se encuentre dentro de un dataset debiendo devolver el éxito del mismo medido a través del retorno. Además, la cantidad de películas que en las que ha participado y el promedio de retorno. La definición no deberá considerar directores.\n",
    "                    Ejemplo de retorno: El actor X ha participado de X cantidad de filmaciones, el mismo ha conseguido un retorno de X con un promedio de X por filmación\n"
   ]
  },
  {
   "cell_type": "code",
   "execution_count": null,
   "metadata": {},
   "outputs": [],
   "source": []
  },
  {
   "attachments": {},
   "cell_type": "markdown",
   "metadata": {},
   "source": [
    "\n",
    "def get_director( nombre_director ): Se ingresa el nombre de un director que se encuentre dentro de un dataset debiendo devolver el éxito del mismo medido a través del retorno. Además, deberá devolver el nombre de cada película con la fecha de lanzamiento, retorno individual, costo y ganancia de la misma."
   ]
  }
 ],
 "metadata": {
  "kernelspec": {
   "display_name": "Python 3",
   "language": "python",
   "name": "python3"
  },
  "language_info": {
   "codemirror_mode": {
    "name": "ipython",
    "version": 3
   },
   "file_extension": ".py",
   "mimetype": "text/x-python",
   "name": "python",
   "nbconvert_exporter": "python",
   "pygments_lexer": "ipython3",
   "version": "3.11.1"
  },
  "orig_nbformat": 4
 },
 "nbformat": 4,
 "nbformat_minor": 2
}
