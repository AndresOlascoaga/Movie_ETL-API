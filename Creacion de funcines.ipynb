{
 "cells": [
  {
   "attachments": {},
   "cell_type": "markdown",
   "metadata": {},
   "source": [
    "## análisis previo de dato "
   ]
  },
  {
   "cell_type": "code",
   "execution_count": 1,
   "metadata": {},
   "outputs": [],
   "source": [
    "import pandas as pd\n",
    "import calendar\n",
    "import locale\n",
    "import numpy as np\n",
    "# Establecer el idioma a español\n",
    "#locale.setlocale(locale.LC_TIME, 'es_ES')"
   ]
  },
  {
   "cell_type": "code",
   "execution_count": 83,
   "metadata": {},
   "outputs": [],
   "source": [
    "df_movies = pd.read_csv('ETL\\movies_ETL.csv')\n",
    "df_cast = pd.read_csv('ETL\\credits_Cast_ETL.csv')\n",
    "df_crew = pd.read_csv('ETL\\credits_crew_ETL.csv')\n",
    "df_movies_cluster = pd.read_csv('ETL\\df_movies_cluster.csv')"
   ]
  },
  {
   "cell_type": "code",
   "execution_count": 84,
   "metadata": {},
   "outputs": [
    {
     "data": {
      "text/html": [
       "<div>\n",
       "<style scoped>\n",
       "    .dataframe tbody tr th:only-of-type {\n",
       "        vertical-align: middle;\n",
       "    }\n",
       "\n",
       "    .dataframe tbody tr th {\n",
       "        vertical-align: top;\n",
       "    }\n",
       "\n",
       "    .dataframe thead th {\n",
       "        text-align: right;\n",
       "    }\n",
       "</style>\n",
       "<table border=\"1\" class=\"dataframe\">\n",
       "  <thead>\n",
       "    <tr style=\"text-align: right;\">\n",
       "      <th></th>\n",
       "      <th>belongs_to_collection</th>\n",
       "      <th>budget</th>\n",
       "      <th>genres</th>\n",
       "      <th>id</th>\n",
       "      <th>original_language</th>\n",
       "      <th>overview</th>\n",
       "      <th>popularity</th>\n",
       "      <th>production_companies</th>\n",
       "      <th>production_countries</th>\n",
       "      <th>release_date</th>\n",
       "      <th>revenue</th>\n",
       "      <th>runtime</th>\n",
       "      <th>spoken_languages</th>\n",
       "      <th>status</th>\n",
       "      <th>tagline</th>\n",
       "      <th>title</th>\n",
       "      <th>vote_average</th>\n",
       "      <th>vote_count</th>\n",
       "      <th>release_year</th>\n",
       "      <th>return</th>\n",
       "    </tr>\n",
       "  </thead>\n",
       "  <tbody>\n",
       "    <tr>\n",
       "      <th>0</th>\n",
       "      <td>Toy Story Collection</td>\n",
       "      <td>30000000</td>\n",
       "      <td>Animation, Comedy, Family</td>\n",
       "      <td>862</td>\n",
       "      <td>en</td>\n",
       "      <td>Led by Woody, Andy's toys live happily in his ...</td>\n",
       "      <td>21.946943</td>\n",
       "      <td>Pixar Animation Studios</td>\n",
       "      <td>United States of America</td>\n",
       "      <td>1995-10-30</td>\n",
       "      <td>373554033.0</td>\n",
       "      <td>81.0</td>\n",
       "      <td>English</td>\n",
       "      <td>Released</td>\n",
       "      <td>NaN</td>\n",
       "      <td>Toy Story</td>\n",
       "      <td>7.7</td>\n",
       "      <td>5415.0</td>\n",
       "      <td>1995</td>\n",
       "      <td>12.451801</td>\n",
       "    </tr>\n",
       "    <tr>\n",
       "      <th>1</th>\n",
       "      <td>NaN</td>\n",
       "      <td>65000000</td>\n",
       "      <td>Adventure, Fantasy, Family</td>\n",
       "      <td>8844</td>\n",
       "      <td>en</td>\n",
       "      <td>When siblings Judy and Peter discover an encha...</td>\n",
       "      <td>17.015539</td>\n",
       "      <td>TriStar Pictures, Teitler Film, Interscope Com...</td>\n",
       "      <td>United States of America</td>\n",
       "      <td>1995-12-15</td>\n",
       "      <td>262797249.0</td>\n",
       "      <td>104.0</td>\n",
       "      <td>English, Français</td>\n",
       "      <td>Released</td>\n",
       "      <td>Roll the dice and unleash the excitement!</td>\n",
       "      <td>Jumanji</td>\n",
       "      <td>6.9</td>\n",
       "      <td>2413.0</td>\n",
       "      <td>1995</td>\n",
       "      <td>4.043035</td>\n",
       "    </tr>\n",
       "    <tr>\n",
       "      <th>2</th>\n",
       "      <td>Grumpy Old Men Collection</td>\n",
       "      <td>0</td>\n",
       "      <td>Romance, Comedy</td>\n",
       "      <td>15602</td>\n",
       "      <td>en</td>\n",
       "      <td>A family wedding reignites the ancient feud be...</td>\n",
       "      <td>11.712900</td>\n",
       "      <td>Warner Bros., Lancaster Gate</td>\n",
       "      <td>United States of America</td>\n",
       "      <td>1995-12-22</td>\n",
       "      <td>0.0</td>\n",
       "      <td>101.0</td>\n",
       "      <td>English</td>\n",
       "      <td>Released</td>\n",
       "      <td>Still Yelling. Still Fighting. Still Ready for...</td>\n",
       "      <td>Grumpier Old Men</td>\n",
       "      <td>6.5</td>\n",
       "      <td>92.0</td>\n",
       "      <td>1995</td>\n",
       "      <td>0.000000</td>\n",
       "    </tr>\n",
       "    <tr>\n",
       "      <th>3</th>\n",
       "      <td>NaN</td>\n",
       "      <td>16000000</td>\n",
       "      <td>Comedy, Drama, Romance</td>\n",
       "      <td>31357</td>\n",
       "      <td>en</td>\n",
       "      <td>Cheated on, mistreated and stepped on, the wom...</td>\n",
       "      <td>3.859495</td>\n",
       "      <td>Twentieth Century Fox Film Corporation</td>\n",
       "      <td>United States of America</td>\n",
       "      <td>1995-12-22</td>\n",
       "      <td>81452156.0</td>\n",
       "      <td>127.0</td>\n",
       "      <td>English</td>\n",
       "      <td>Released</td>\n",
       "      <td>Friends are the people who let you be yourself...</td>\n",
       "      <td>Waiting to Exhale</td>\n",
       "      <td>6.1</td>\n",
       "      <td>34.0</td>\n",
       "      <td>1995</td>\n",
       "      <td>5.090760</td>\n",
       "    </tr>\n",
       "    <tr>\n",
       "      <th>4</th>\n",
       "      <td>Father of the Bride Collection</td>\n",
       "      <td>0</td>\n",
       "      <td>Comedy</td>\n",
       "      <td>11862</td>\n",
       "      <td>en</td>\n",
       "      <td>Just when George Banks has recovered from his ...</td>\n",
       "      <td>8.387519</td>\n",
       "      <td>Sandollar Productions, Touchstone Pictures</td>\n",
       "      <td>United States of America</td>\n",
       "      <td>1995-02-10</td>\n",
       "      <td>76578911.0</td>\n",
       "      <td>106.0</td>\n",
       "      <td>English</td>\n",
       "      <td>Released</td>\n",
       "      <td>Just When His World Is Back To Normal... He's ...</td>\n",
       "      <td>Father of the Bride Part II</td>\n",
       "      <td>5.7</td>\n",
       "      <td>173.0</td>\n",
       "      <td>1995</td>\n",
       "      <td>0.000000</td>\n",
       "    </tr>\n",
       "  </tbody>\n",
       "</table>\n",
       "</div>"
      ],
      "text/plain": [
       "            belongs_to_collection    budget                      genres  \\\n",
       "0            Toy Story Collection  30000000   Animation, Comedy, Family   \n",
       "1                             NaN  65000000  Adventure, Fantasy, Family   \n",
       "2       Grumpy Old Men Collection         0             Romance, Comedy   \n",
       "3                             NaN  16000000      Comedy, Drama, Romance   \n",
       "4  Father of the Bride Collection         0                      Comedy   \n",
       "\n",
       "      id original_language                                           overview  \\\n",
       "0    862                en  Led by Woody, Andy's toys live happily in his ...   \n",
       "1   8844                en  When siblings Judy and Peter discover an encha...   \n",
       "2  15602                en  A family wedding reignites the ancient feud be...   \n",
       "3  31357                en  Cheated on, mistreated and stepped on, the wom...   \n",
       "4  11862                en  Just when George Banks has recovered from his ...   \n",
       "\n",
       "   popularity                               production_companies  \\\n",
       "0   21.946943                            Pixar Animation Studios   \n",
       "1   17.015539  TriStar Pictures, Teitler Film, Interscope Com...   \n",
       "2   11.712900                       Warner Bros., Lancaster Gate   \n",
       "3    3.859495             Twentieth Century Fox Film Corporation   \n",
       "4    8.387519         Sandollar Productions, Touchstone Pictures   \n",
       "\n",
       "       production_countries release_date      revenue  runtime  \\\n",
       "0  United States of America   1995-10-30  373554033.0     81.0   \n",
       "1  United States of America   1995-12-15  262797249.0    104.0   \n",
       "2  United States of America   1995-12-22          0.0    101.0   \n",
       "3  United States of America   1995-12-22   81452156.0    127.0   \n",
       "4  United States of America   1995-02-10   76578911.0    106.0   \n",
       "\n",
       "    spoken_languages    status  \\\n",
       "0            English  Released   \n",
       "1  English, Français  Released   \n",
       "2            English  Released   \n",
       "3            English  Released   \n",
       "4            English  Released   \n",
       "\n",
       "                                             tagline  \\\n",
       "0                                                NaN   \n",
       "1          Roll the dice and unleash the excitement!   \n",
       "2  Still Yelling. Still Fighting. Still Ready for...   \n",
       "3  Friends are the people who let you be yourself...   \n",
       "4  Just When His World Is Back To Normal... He's ...   \n",
       "\n",
       "                         title  vote_average  vote_count  release_year  \\\n",
       "0                    Toy Story           7.7      5415.0          1995   \n",
       "1                      Jumanji           6.9      2413.0          1995   \n",
       "2             Grumpier Old Men           6.5        92.0          1995   \n",
       "3            Waiting to Exhale           6.1        34.0          1995   \n",
       "4  Father of the Bride Part II           5.7       173.0          1995   \n",
       "\n",
       "      return  \n",
       "0  12.451801  \n",
       "1   4.043035  \n",
       "2   0.000000  \n",
       "3   5.090760  \n",
       "4   0.000000  "
      ]
     },
     "execution_count": 84,
     "metadata": {},
     "output_type": "execute_result"
    }
   ],
   "source": [
    "df_movies.head()"
   ]
  },
  {
   "cell_type": "code",
   "execution_count": 6,
   "metadata": {},
   "outputs": [
    {
     "data": {
      "text/plain": [
       "Index(['belongs_to_collection', 'budget', 'genres', 'id', 'original_language',\n",
       "       'overview', 'popularity', 'production_companies',\n",
       "       'production_countries', 'release_date', 'revenue', 'runtime',\n",
       "       'spoken_languages', 'status', 'tagline', 'title', 'vote_average',\n",
       "       'vote_count', 'release_year', 'return'],\n",
       "      dtype='object')"
      ]
     },
     "execution_count": 6,
     "metadata": {},
     "output_type": "execute_result"
    }
   ],
   "source": [
    "df_movies.columns"
   ]
  },
  {
   "attachments": {},
   "cell_type": "markdown",
   "metadata": {},
   "source": [
    "## FECHA"
   ]
  },
  {
   "cell_type": "code",
   "execution_count": 73,
   "metadata": {},
   "outputs": [],
   "source": [
    "def cantidad_filmaciones_mes(mes: str):\n",
    "\n",
    "    df_movies = pd.read_csv('ETL/movies_ETL.csv')\n",
    "    \n",
    "    # Convertir la columna 'release_date' al tipo de dato de fecha\n",
    "    df_movies['release_date'] = pd.to_datetime(df_movies['release_date'])\n",
    "\n",
    "    # Obtener el nombre del mes de la columna 'release_date'\n",
    "    df_movies['nombre_mes'] = df_movies['release_date'].dt.strftime('%B')\n",
    "\n",
    "\n",
    "    #creamos diccionarios con los nombres de los meses en ingles y español para poder cambiar el nombre de\n",
    "    meses_ingles = ['January', 'February', 'March', 'April', 'May', 'June',\n",
    "                    'July', 'August', 'September', 'October', 'November', 'December']\n",
    "\n",
    "    meses_espanol = ['enero', 'febrero', 'marzo', 'abril', 'mayo', 'junio',\n",
    "                    'julio', 'agosto', 'septiembre', 'octubre', 'noviembre', 'diciembre']\n",
    "\n",
    "    # Crear un diccionario de nombres de meses en inglés y en español\n",
    "    meses_dict = dict(zip(meses_ingles, meses_espanol))\n",
    "    \n",
    "\n",
    "    #cambiamos el nombre de ingles a español\n",
    "    df_movies['nombre_mes'] = df_movies['nombre_mes'].map(meses_dict)\n",
    "        \n",
    "    # Filtrar las películas estrenadas en el mes consultado\n",
    "    peliculas_mes = (df_movies['nombre_mes'].str.strip().str.lower() == mes.strip().lower()).sum()\n",
    "    \n",
    "    # Devolver el resultado\n",
    "    return {\"mes\":mes, \"cantidad\": f\"{peliculas_mes} películas fueron estrenadas en el mes de {mes}\"}"
   ]
  },
  {
   "cell_type": "code",
   "execution_count": 74,
   "metadata": {},
   "outputs": [
    {
     "name": "stdout",
     "output_type": "stream",
     "text": [
      "{'mes': 'Octubre ', 'cantidad': '4615 películas fueron estrenadas en el mes de Octubre '}\n"
     ]
    }
   ],
   "source": [
    "# Ejemplo de uso\n",
    "cantidad = cantidad_filmaciones_mes('Octubre ')\n",
    "print(cantidad)"
   ]
  },
  {
   "attachments": {},
   "cell_type": "markdown",
   "metadata": {},
   "source": [
    "dia"
   ]
  },
  {
   "cell_type": "code",
   "execution_count": 2,
   "metadata": {},
   "outputs": [],
   "source": [
    "import pandas as pd\n",
    "\n",
    "def cantidad_filmaciones_dia(dia):\n",
    "    df_movies = pd.read_csv('ETL/movies_ETL.csv')\n",
    "\n",
    "    # Convertir la columna 'release_date' al tipo de dato de fecha\n",
    "    df_movies['release_date'] = pd.to_datetime(df_movies['release_date'])\n",
    "\n",
    "    # Obtener el nombre del día de la semana de la columna 'release_date' en español\n",
    "    df_movies['nombre_dia'] = df_movies['release_date'].dt.strftime('%A')\n",
    "\n",
    "    # Crear un diccionario de nombres de días de la semana en inglés y en español\n",
    "    dias_ingles = ['Monday', 'Tuesday', 'Wednesday', 'Thursday', 'Friday', 'Saturday', 'Sunday']\n",
    "    dias_espanol = ['lunes', 'martes', 'miercoles', 'jueves', 'viernes', 'sabado', 'domingo']\n",
    "\n",
    "    # Crear un diccionario de nombres de dias en inglés y en español\n",
    "    dias_dict = dict(zip(dias_ingles, dias_espanol))\n",
    "\n",
    "    # Cambiamos el nombre de inglés a español\n",
    "    df_movies['nombre_dia'] = df_movies['nombre_dia'].map(dias_dict)\n",
    "\n",
    "    # Filtrar las películas estrenadas en el día consultado\n",
    "    peliculas_dia = (df_movies['nombre_dia'].str.strip().str.lower() == dia.strip().lower()).sum()\n",
    "\n",
    "    # Devolver el resultado\n",
    "    return {'dia': dia, 'cantidad': f\"{peliculas_dia} películas fueron estrenadas el día {dia}\"}\n"
   ]
  },
  {
   "cell_type": "code",
   "execution_count": 4,
   "metadata": {},
   "outputs": [
    {
     "name": "stdout",
     "output_type": "stream",
     "text": [
      "{'dia': 'miercoles ', 'cantidad': '7035 películas fueron estrenadas el día miercoles '}\n"
     ]
    }
   ],
   "source": [
    "# Ejemplo de uso\n",
    "cantidad = cantidad_filmaciones_dia('miercoles')\n",
    "print(cantidad)"
   ]
  },
  {
   "cell_type": "code",
   "execution_count": 209,
   "metadata": {},
   "outputs": [],
   "source": [
    "# def cantidad_filmaciones_dia(Dia: int):\n",
    "#     # Convertir la columna 'release_date' al tipo de dato de fecha\n",
    "#     df_movies['release_date'] = pd.to_datetime(df_movies['release_date'])\n",
    "\n",
    "#     # Filtrar las películas estrenadas en el día consultado\n",
    "#     peliculas_dia = (df_movies['release_date'].dt.day == Dia).sum()\n",
    "\n",
    "#     # Devolver el resultado\n",
    "#     return {'dia': Dia, 'cantidad': f\"{peliculas_dia} películas fueron estrenadas en el día {Dia}\"}"
   ]
  },
  {
   "cell_type": "code",
   "execution_count": 210,
   "metadata": {},
   "outputs": [
    {
     "name": "stdout",
     "output_type": "stream",
     "text": [
      "{'dia': 1, 'cantidad': '5838 películas fueron estrenadas en el día 1'}\n"
     ]
    }
   ],
   "source": [
    "# # Ejemplo de uso\n",
    "# cantidad = cantidad_filmaciones_dia(1)\n",
    "# print(cantidad)"
   ]
  },
  {
   "attachments": {},
   "cell_type": "markdown",
   "metadata": {},
   "source": [
    "## POPULARIDAD"
   ]
  },
  {
   "cell_type": "code",
   "execution_count": 85,
   "metadata": {},
   "outputs": [],
   "source": [
    "def score_titulo(titulo_de_la_filmacion: str):\n",
    "    \n",
    "    df_movies = pd.read_csv('ETL\\movies_ETL.csv')\n",
    "    # Usamos loc para ubicar la popularidad por el título, dado que puede haber varias películas con el mismo título\n",
    "    # Se hace tolerante a espacios y se convierte a minúsculas para realizar una comparación insensible a mayúsculas y espacios\n",
    "    peliculas = df_movies.loc[df_movies['title'].str.strip().str.lower() == titulo_de_la_filmacion.strip().lower()]\n",
    "\n",
    "    # Convertimos la columna 'popularity' al tipo de dato numérico\n",
    "    peliculas['popularity'] = pd.to_numeric(peliculas['popularity'], errors='coerce')\n",
    "\n",
    "    # Obtenemos la popularidad promedio de las películas encontradas\n",
    "    popularidad = peliculas['popularity'].mean()\n",
    "\n",
    "    # Obtenemos el año de estreno de la primera película encontrada\n",
    "    anio = int(peliculas.iloc[0]['release_year'])\n",
    "\n",
    "    # Devolver el resultado\n",
    "    return {'titulo': titulo_de_la_filmacion, 'anio': anio, 'popularidad': f\"La película '{titulo_de_la_filmacion}' fue estrenada en el año {anio} con un score/popularidad de {popularidad}\"}\n"
   ]
  },
  {
   "cell_type": "code",
   "execution_count": 86,
   "metadata": {},
   "outputs": [
    {
     "name": "stdout",
     "output_type": "stream",
     "text": [
      "{'titulo': 'Jumanji', 'anio': 1995, 'popularidad': \"La película 'Jumanji' fue estrenada en el año 1995 con un score/popularidad de 17.015539\"}\n"
     ]
    },
    {
     "name": "stderr",
     "output_type": "stream",
     "text": [
      "C:\\Users\\makaw\\AppData\\Local\\Temp\\ipykernel_10812\\1817047864.py:9: SettingWithCopyWarning: \n",
      "A value is trying to be set on a copy of a slice from a DataFrame.\n",
      "Try using .loc[row_indexer,col_indexer] = value instead\n",
      "\n",
      "See the caveats in the documentation: https://pandas.pydata.org/pandas-docs/stable/user_guide/indexing.html#returning-a-view-versus-a-copy\n",
      "  peliculas['popularity'] = pd.to_numeric(peliculas['popularity'], errors='coerce')\n"
     ]
    }
   ],
   "source": [
    "# Ejemplo de uso\n",
    "popularidad = score_titulo('Jumanji')\n",
    "print(popularidad)"
   ]
  },
  {
   "attachments": {},
   "cell_type": "markdown",
   "metadata": {},
   "source": [
    "## VOTOS"
   ]
  },
  {
   "cell_type": "code",
   "execution_count": 87,
   "metadata": {},
   "outputs": [],
   "source": [
    "def votos_titulo(titulo_de_la_filmacion: str):\n",
    "\n",
    "    df_movies = pd.read_csv('ETL\\movies_ETL.csv')\n",
    "    # Filtrar el DataFrame por el título dado \n",
    "    # hacemos que sea tolerante a espacios al inicio o al final del nombre, a datos que no sean de tipo str y a las mayusculas\n",
    "    filtro = df_movies.loc[df_movies['title'].str.strip().str.strip().str.lower() == titulo_de_la_filmacion.strip().lower()]\n",
    "    filtro\n",
    "    \n",
    "    if filtro.empty:\n",
    "        # Si no se encuentra el título en el DataFrame\n",
    "        return \"No se encontró ninguna filmación con ese título.\"\n",
    "\n",
    "    # Obtener el número de votos y promedio de votos, se usa .item() para modificar el dato y que ya no se un objeto de numpy\n",
    "    votos = filtro['vote_count'].sum().item()\n",
    "    promedio_votos = filtro['vote_average'].mean().item()\n",
    "\n",
    "    if votos < 2000:\n",
    "        # Si el número de votos es menor a 2000, mostrar mensaje y retornar None\n",
    "        return \"La filmación no tiene suficientes valoraciones (menos de 2000).\"\n",
    "    \n",
    "    anio = filtro['release_year'].values[0].item()\n",
    "    # Retornar el título, cantidad de votos y promedio de votos en un diccionario\n",
    "    return {'titulo': titulo_de_la_filmacion, 'anio': anio, 'voto_total': votos, 'voto_promedio': promedio_votos}\n"
   ]
  },
  {
   "cell_type": "code",
   "execution_count": 88,
   "metadata": {},
   "outputs": [
    {
     "name": "stdout",
     "output_type": "stream",
     "text": [
      "{'titulo': 'Jumanji', 'anio': 1995, 'voto_total': 2413.0, 'voto_promedio': 6.9}\n"
     ]
    }
   ],
   "source": [
    "# Ejemplo de uso\n",
    "resultado = votos_titulo('Jumanji')\n",
    "print(resultado)"
   ]
  },
  {
   "cell_type": "code",
   "execution_count": 11,
   "metadata": {},
   "outputs": [],
   "source": [
    "pd.set_option('display.max_columns', None)"
   ]
  },
  {
   "attachments": {},
   "cell_type": "markdown",
   "metadata": {},
   "source": []
  },
  {
   "attachments": {},
   "cell_type": "markdown",
   "metadata": {},
   "source": [
    "## nombre_actor"
   ]
  },
  {
   "cell_type": "code",
   "execution_count": 5,
   "metadata": {},
   "outputs": [],
   "source": [
    "def get_actor(nombre_actor):\n",
    "\n",
    "    df_cast = pd.read_csv('ETL/credits_Cast_ETL.csv')\n",
    "    df_movies = pd.read_csv('ETL/movies_ETL.csv')\n",
    "    # Filtrar el DataFrame df_cast por nombre del actor\n",
    "    peliculas_actor= df_cast[df_cast['name'].str.strip().str.strip().str.lower() == nombre_actor.strip().lower()]\n",
    "\n",
    "    # Obtener la cantidad de películas en las que ha participado el actor\n",
    "    cantidad_peliculas = len(peliculas_actor)\n",
    "\n",
    "    if cantidad_peliculas > 0:\n",
    "        # Filtrar el DataFrame df_movies por las películas en las que ha participado el actor\n",
    "        # el metodo .isin permite verificar si los valores de una columna se encuentran dentro de una lista de valores especificada\n",
    "        participacion_actor = df_movies[df_movies['id'].isin(peliculas_actor['id'])]\n",
    "\n",
    "        # Calcular el retorno total del actor sumando los retornos de todas las películas\n",
    "        retorno_total = participacion_actor['return'].sum()\n",
    "\n",
    "        # Calcular el promedio de retorno del actor dividiendo el retorno total entre la cantidad de películas\n",
    "        promedio_retorno = retorno_total / cantidad_peliculas\n",
    "\n",
    "        # Construir el mensaje de retorno con la información obtenida\n",
    "        mensaje_retorno = {'actor':nombre_actor, 'cantidad_filmaciones':cantidad_peliculas, 'retorno_total':retorno_total, 'retorno_promedio':promedio_retorno}\n",
    "    else:\n",
    "        mensaje_retorno = {'mensaje': f\"No se encontraron películas para el actor {nombre_actor}\"}\n",
    "\n",
    "    # Devolver el mensaje de retorno\n",
    "    return mensaje_retorno"
   ]
  },
  {
   "cell_type": "code",
   "execution_count": 14,
   "metadata": {},
   "outputs": [
    {
     "name": "stdout",
     "output_type": "stream",
     "text": [
      "{'actor': 'Scarlett Johansson', 'cantidad_filmaciones': 51, 'retorno_total': 130.26514497509592, 'retorno_promedio': 2.5542185289234496}\n"
     ]
    }
   ],
   "source": [
    "resultado = get_actor('Scarlett Johansson')\n",
    "print(resultado)"
   ]
  },
  {
   "attachments": {},
   "cell_type": "markdown",
   "metadata": {},
   "source": [
    "## nombre_director"
   ]
  },
  {
   "cell_type": "code",
   "execution_count": 8,
   "metadata": {},
   "outputs": [],
   "source": [
    "def get_director( nombre_director ):\n",
    "\n",
    "    df_movies = pd.read_csv('ETL/movies_ETL.csv')\n",
    "    df_crew = pd.read_csv('ETL/credits_crew_ETL.csv')\n",
    "    # Filtrar el DataFrame df_cast por nombre del actor\n",
    "    peliculas_director= df_crew[df_crew['name'].str.strip().str.strip().str.lower() == nombre_director.strip().lower()]\n",
    "\n",
    "    # Obtener la cantidad de películas en las que ha participado el actor\n",
    "    cantidad_peliculas = len(peliculas_director)\n",
    "\n",
    "    if cantidad_peliculas > 0:\n",
    "        # Filtrar el DataFrame df_movies por las películas en las que ha participado el actor\n",
    "        # el metodo .isin permite verificar si los valores de una columna se encuentran dentro de una lista de valores especificada\n",
    "        peliculas_dirigidas = df_movies[df_movies['id'].isin(peliculas_director['id'])].reset_index(drop=True)\n",
    "\n",
    "        # Calcular el retorno total del director sumando los retornos de todas las películas\n",
    "        retorno_total = peliculas_dirigidas['return'].sum()\n",
    "\n",
    "        # Obtener el número de filas en el DataFrame\n",
    "        tamaño_df = len(peliculas_dirigidas)\n",
    "        tamaño_df\n",
    "\n",
    "        # Crear una lista vacía para almacenar los diccionarios\n",
    "        peliculas_info = []\n",
    "\n",
    "        # Iterar sobre cada fila del DataFrame\n",
    "        for i in range(tamaño_df):\n",
    "             # Obtener los valores de cada columna en la fila actual\n",
    "            titulo = peliculas_dirigidas.loc[i, 'title']\n",
    "            anio = peliculas_dirigidas.loc[i, 'release_year']\n",
    "            retorno_pelicula = peliculas_dirigidas.loc[i, 'return']\n",
    "            budget_pelicula = peliculas_dirigidas.loc[i, 'budget']\n",
    "            revenue_pelicula = peliculas_dirigidas.loc[i, 'revenue']\n",
    "\n",
    "            # Convertir los valores de tipo numpy.int64 a tipos nativos de Python\n",
    "            titulo = titulo.tolist() if isinstance(titulo, np.int64) else titulo\n",
    "            anio = anio.tolist() if isinstance(anio, np.int64) else anio\n",
    "            retorno_pelicula = retorno_pelicula.tolist() if isinstance(retorno_pelicula, np.int64) else retorno_pelicula\n",
    "            budget_pelicula = budget_pelicula.tolist() if isinstance(budget_pelicula, np.int64) else budget_pelicula\n",
    "            revenue_pelicula = revenue_pelicula.tolist() if isinstance(revenue_pelicula, np.int64) else revenue_pelicula\n",
    "            \n",
    "            # Crear un diccionario con los valores de la fila actual\n",
    "            pelicula = {\n",
    "                \"titulo\": titulo,\n",
    "                \"anio\": anio,\n",
    "                \"retorno\": retorno_pelicula,\n",
    "                \"costo\": budget_pelicula,\n",
    "                \"ganancia \": revenue_pelicula\n",
    "            }\n",
    "            \n",
    "            # Agregar el diccionario a la lista de peliculas\n",
    "            peliculas_info.append(pelicula)\n",
    "\n",
    "        # Construir el mensaje de retorno con la información obtenida\n",
    "        mensaje_retorno = {'director': nombre_director, 'retorno_total_director':retorno_total, 'peliculas': peliculas_info}\n",
    "    else:\n",
    "        mensaje_retorno = {'respuesta': f\"No se encontraron películas dirigidas por el director {nombre_director}\"}\n",
    "\n",
    "    # Devolver el mensaje de retorno\n",
    "    return mensaje_retorno"
   ]
  },
  {
   "cell_type": "code",
   "execution_count": 19,
   "metadata": {},
   "outputs": [
    {
     "name": "stdout",
     "output_type": "stream",
     "text": [
      "{'director': 'Ava DuVernay', 'retorno_total_director': 3.3393954, 'peliculas': [{'titulo': 'Middle of Nowhere', 'anio': 2012, 'retorno': 0.0, 'costo': 0, 'ganancia ': 0.0}, {'titulo': 'Selma', 'anio': 2014, 'retorno': 3.3393954, 'costo': 20000000, 'ganancia ': 66787908.0}, {'titulo': 'I Will Follow', 'anio': 2010, 'retorno': 0.0, 'costo': 0, 'ganancia ': 0.0}, {'titulo': 'This Is The Life', 'anio': 2008, 'retorno': 0.0, 'costo': 0, 'ganancia ': 0.0}, {'titulo': '13th', 'anio': 2016, 'retorno': 0.0, 'costo': 0, 'ganancia ': 0.0}]}\n"
     ]
    }
   ],
   "source": [
    "resultado = get_director('Ava DuVernay')\n",
    "print(resultado)"
   ]
  },
  {
   "attachments": {},
   "cell_type": "markdown",
   "metadata": {},
   "source": [
    "## sistema de recomendacion"
   ]
  },
  {
   "cell_type": "code",
   "execution_count": 136,
   "metadata": {},
   "outputs": [
    {
     "data": {
      "text/html": [
       "<div>\n",
       "<style scoped>\n",
       "    .dataframe tbody tr th:only-of-type {\n",
       "        vertical-align: middle;\n",
       "    }\n",
       "\n",
       "    .dataframe tbody tr th {\n",
       "        vertical-align: top;\n",
       "    }\n",
       "\n",
       "    .dataframe thead th {\n",
       "        text-align: right;\n",
       "    }\n",
       "</style>\n",
       "<table border=\"1\" class=\"dataframe\">\n",
       "  <thead>\n",
       "    <tr style=\"text-align: right;\">\n",
       "      <th></th>\n",
       "      <th>overview_lemmatization_completo</th>\n",
       "      <th>title</th>\n",
       "    </tr>\n",
       "  </thead>\n",
       "  <tbody>\n",
       "    <tr>\n",
       "      <th>0</th>\n",
       "      <td>lead woody andys toy live happily room andys b...</td>\n",
       "      <td>Toy Story</td>\n",
       "    </tr>\n",
       "  </tbody>\n",
       "</table>\n",
       "</div>"
      ],
      "text/plain": [
       "                     overview_lemmatization_completo      title\n",
       "0  lead woody andys toy live happily room andys b...  Toy Story"
      ]
     },
     "execution_count": 136,
     "metadata": {},
     "output_type": "execute_result"
    }
   ],
   "source": [
    "df_movies_cluster.head(1)"
   ]
  },
  {
   "cell_type": "code",
   "execution_count": 30,
   "metadata": {},
   "outputs": [],
   "source": [
    "import pandas as pd\n",
    "import numpy as np\n",
    "from sklearn.feature_extraction.text import TfidfVectorizer\n",
    "from sklearn.metrics.pairwise import cosine_similarity\n",
    "\n",
    "def recomendacion(titulo: str):\n",
    "    df_movies_cluster = pd.read_csv('ETL/df_movies_cluster.csv')\n",
    "\n",
    "    # Reemplazar los valores NaN por un espacio en blanco\n",
    "    df_movies_cluster['overview_lemmatization_completo'].fillna(' ', inplace=True)\n",
    "\n",
    "    # Obtener el índice de la película objetivo\n",
    "    idx = df_movies_cluster[df_movies_cluster['title'].str.strip().str.strip().str.lower() == titulo.strip().strip().lower()].index[0]\n",
    "\n",
    "    # Obtener la matriz TF-IDF de las descripciones de las películas (overview_lemmatization_completo)\n",
    "    tfidf_vectorizer = TfidfVectorizer()\n",
    "    tfidf_matrix = tfidf_vectorizer.fit_transform(df_movies_cluster['overview_lemmatization_completo'].values)\n",
    "\n",
    "    # Calcular las similitudes entre todas las películas respecto a la película inicial\n",
    "    similarity_scores = cosine_similarity(tfidf_matrix[idx], tfidf_matrix)\n",
    "\n",
    "    # Obtener las películas más similares a la película objetivo\n",
    "    similar_movies_indices = np.argsort(similarity_scores[0])[::-1][1:6]  # Obtener las 5 películas más similares\n",
    "    similar_movies = df_movies_cluster['title'].iloc[similar_movies_indices].values.tolist()\n",
    "\n",
    "    return {'lista recomendada': f\"Las películas recomendadas similares a {titulo} son: {', '.join(similar_movies)}\"}\n"
   ]
  },
  {
   "cell_type": "code",
   "execution_count": 32,
   "metadata": {},
   "outputs": [
    {
     "name": "stdout",
     "output_type": "stream",
     "text": [
      "{'lista recomendada': 'Las películas recomendadas similares a titanic son: Raise the Titanic, Deadly Voyage, The Tiger Brigades, Beyond the Poseidon Adventure, Ghost Voyage'}\n"
     ]
    }
   ],
   "source": [
    "\n",
    "resultado = recomendacion('titanic')\n",
    "print(resultado)\n",
    "\n"
   ]
  }
 ],
 "metadata": {
  "kernelspec": {
   "display_name": "Python 3",
   "language": "python",
   "name": "python3"
  },
  "language_info": {
   "codemirror_mode": {
    "name": "ipython",
    "version": 3
   },
   "file_extension": ".py",
   "mimetype": "text/x-python",
   "name": "python",
   "nbconvert_exporter": "python",
   "pygments_lexer": "ipython3",
   "version": "3.11.1"
  },
  "orig_nbformat": 4
 },
 "nbformat": 4,
 "nbformat_minor": 2
}
