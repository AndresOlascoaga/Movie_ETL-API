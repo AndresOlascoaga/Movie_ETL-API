{
 "cells": [
  {
   "attachments": {},
   "cell_type": "markdown",
   "metadata": {},
   "source": [
    "## ETL CREDITS"
   ]
  },
  {
   "cell_type": "code",
   "execution_count": 31,
   "metadata": {},
   "outputs": [],
   "source": [
    "import pandas as pd\n",
    "import numpy as np"
   ]
  },
  {
   "cell_type": "code",
   "execution_count": 42,
   "metadata": {},
   "outputs": [],
   "source": [
    "credits = pd.read_csv('Dataset\\credits.csv')"
   ]
  },
  {
   "cell_type": "code",
   "execution_count": 43,
   "metadata": {},
   "outputs": [
    {
     "data": {
      "text/html": [
       "<div>\n",
       "<style scoped>\n",
       "    .dataframe tbody tr th:only-of-type {\n",
       "        vertical-align: middle;\n",
       "    }\n",
       "\n",
       "    .dataframe tbody tr th {\n",
       "        vertical-align: top;\n",
       "    }\n",
       "\n",
       "    .dataframe thead th {\n",
       "        text-align: right;\n",
       "    }\n",
       "</style>\n",
       "<table border=\"1\" class=\"dataframe\">\n",
       "  <thead>\n",
       "    <tr style=\"text-align: right;\">\n",
       "      <th></th>\n",
       "      <th>cast</th>\n",
       "      <th>crew</th>\n",
       "      <th>id</th>\n",
       "    </tr>\n",
       "  </thead>\n",
       "  <tbody>\n",
       "    <tr>\n",
       "      <th>0</th>\n",
       "      <td>[{'cast_id': 14, 'character': 'Woody (voice)',...</td>\n",
       "      <td>[{'credit_id': '52fe4284c3a36847f8024f49', 'de...</td>\n",
       "      <td>862</td>\n",
       "    </tr>\n",
       "    <tr>\n",
       "      <th>1</th>\n",
       "      <td>[{'cast_id': 1, 'character': 'Alan Parrish', '...</td>\n",
       "      <td>[{'credit_id': '52fe44bfc3a36847f80a7cd1', 'de...</td>\n",
       "      <td>8844</td>\n",
       "    </tr>\n",
       "    <tr>\n",
       "      <th>2</th>\n",
       "      <td>[{'cast_id': 2, 'character': 'Max Goldman', 'c...</td>\n",
       "      <td>[{'credit_id': '52fe466a9251416c75077a89', 'de...</td>\n",
       "      <td>15602</td>\n",
       "    </tr>\n",
       "    <tr>\n",
       "      <th>3</th>\n",
       "      <td>[{'cast_id': 1, 'character': \"Savannah 'Vannah...</td>\n",
       "      <td>[{'credit_id': '52fe44779251416c91011acb', 'de...</td>\n",
       "      <td>31357</td>\n",
       "    </tr>\n",
       "    <tr>\n",
       "      <th>4</th>\n",
       "      <td>[{'cast_id': 1, 'character': 'George Banks', '...</td>\n",
       "      <td>[{'credit_id': '52fe44959251416c75039ed7', 'de...</td>\n",
       "      <td>11862</td>\n",
       "    </tr>\n",
       "  </tbody>\n",
       "</table>\n",
       "</div>"
      ],
      "text/plain": [
       "                                                cast  \\\n",
       "0  [{'cast_id': 14, 'character': 'Woody (voice)',...   \n",
       "1  [{'cast_id': 1, 'character': 'Alan Parrish', '...   \n",
       "2  [{'cast_id': 2, 'character': 'Max Goldman', 'c...   \n",
       "3  [{'cast_id': 1, 'character': \"Savannah 'Vannah...   \n",
       "4  [{'cast_id': 1, 'character': 'George Banks', '...   \n",
       "\n",
       "                                                crew     id  \n",
       "0  [{'credit_id': '52fe4284c3a36847f8024f49', 'de...    862  \n",
       "1  [{'credit_id': '52fe44bfc3a36847f80a7cd1', 'de...   8844  \n",
       "2  [{'credit_id': '52fe466a9251416c75077a89', 'de...  15602  \n",
       "3  [{'credit_id': '52fe44779251416c91011acb', 'de...  31357  \n",
       "4  [{'credit_id': '52fe44959251416c75039ed7', 'de...  11862  "
      ]
     },
     "execution_count": 43,
     "metadata": {},
     "output_type": "execute_result"
    }
   ],
   "source": [
    "credits.head()"
   ]
  },
  {
   "cell_type": "code",
   "execution_count": 148,
   "metadata": {},
   "outputs": [
    {
     "data": {
      "text/html": [
       "<div>\n",
       "<style scoped>\n",
       "    .dataframe tbody tr th:only-of-type {\n",
       "        vertical-align: middle;\n",
       "    }\n",
       "\n",
       "    .dataframe tbody tr th {\n",
       "        vertical-align: top;\n",
       "    }\n",
       "\n",
       "    .dataframe thead th {\n",
       "        text-align: right;\n",
       "    }\n",
       "</style>\n",
       "<table border=\"1\" class=\"dataframe\">\n",
       "  <thead>\n",
       "    <tr style=\"text-align: right;\">\n",
       "      <th></th>\n",
       "      <th>cast</th>\n",
       "      <th>crew</th>\n",
       "      <th>id</th>\n",
       "    </tr>\n",
       "  </thead>\n",
       "  <tbody>\n",
       "    <tr>\n",
       "      <th>45471</th>\n",
       "      <td>[{'cast_id': 0, 'character': '', 'credit_id': ...</td>\n",
       "      <td>[{'credit_id': '5894a97d925141426c00818c', 'de...</td>\n",
       "      <td>439050</td>\n",
       "    </tr>\n",
       "    <tr>\n",
       "      <th>45472</th>\n",
       "      <td>[{'cast_id': 1002, 'character': 'Sister Angela...</td>\n",
       "      <td>[{'credit_id': '52fe4af1c3a36847f81e9b15', 'de...</td>\n",
       "      <td>111109</td>\n",
       "    </tr>\n",
       "    <tr>\n",
       "      <th>45473</th>\n",
       "      <td>[{'cast_id': 6, 'character': 'Emily Shaw', 'cr...</td>\n",
       "      <td>[{'credit_id': '52fe4776c3a368484e0c8387', 'de...</td>\n",
       "      <td>67758</td>\n",
       "    </tr>\n",
       "    <tr>\n",
       "      <th>45474</th>\n",
       "      <td>[{'cast_id': 2, 'character': '', 'credit_id': ...</td>\n",
       "      <td>[{'credit_id': '533bccebc3a36844cf0011a7', 'de...</td>\n",
       "      <td>227506</td>\n",
       "    </tr>\n",
       "    <tr>\n",
       "      <th>45475</th>\n",
       "      <td>[]</td>\n",
       "      <td>[{'credit_id': '593e676c92514105b702e68e', 'de...</td>\n",
       "      <td>461257</td>\n",
       "    </tr>\n",
       "  </tbody>\n",
       "</table>\n",
       "</div>"
      ],
      "text/plain": [
       "                                                    cast  \\\n",
       "45471  [{'cast_id': 0, 'character': '', 'credit_id': ...   \n",
       "45472  [{'cast_id': 1002, 'character': 'Sister Angela...   \n",
       "45473  [{'cast_id': 6, 'character': 'Emily Shaw', 'cr...   \n",
       "45474  [{'cast_id': 2, 'character': '', 'credit_id': ...   \n",
       "45475                                                 []   \n",
       "\n",
       "                                                    crew      id  \n",
       "45471  [{'credit_id': '5894a97d925141426c00818c', 'de...  439050  \n",
       "45472  [{'credit_id': '52fe4af1c3a36847f81e9b15', 'de...  111109  \n",
       "45473  [{'credit_id': '52fe4776c3a368484e0c8387', 'de...   67758  \n",
       "45474  [{'credit_id': '533bccebc3a36844cf0011a7', 'de...  227506  \n",
       "45475  [{'credit_id': '593e676c92514105b702e68e', 'de...  461257  "
      ]
     },
     "execution_count": 148,
     "metadata": {},
     "output_type": "execute_result"
    }
   ],
   "source": [
    "credits.tail()"
   ]
  },
  {
   "attachments": {},
   "cell_type": "markdown",
   "metadata": {},
   "source": [
    "Dividiremos el dataset en 2,uno que contenga los datos de cast y otro que contenga a crew"
   ]
  },
  {
   "cell_type": "code",
   "execution_count": 155,
   "metadata": {},
   "outputs": [],
   "source": [
    "#creamos el df de cast\n",
    "columnas_cast = ['cast', 'id']\n",
    "df_Cast = credits[columnas_cast]"
   ]
  },
  {
   "cell_type": "code",
   "execution_count": 156,
   "metadata": {},
   "outputs": [
    {
     "data": {
      "text/html": [
       "<div>\n",
       "<style scoped>\n",
       "    .dataframe tbody tr th:only-of-type {\n",
       "        vertical-align: middle;\n",
       "    }\n",
       "\n",
       "    .dataframe tbody tr th {\n",
       "        vertical-align: top;\n",
       "    }\n",
       "\n",
       "    .dataframe thead th {\n",
       "        text-align: right;\n",
       "    }\n",
       "</style>\n",
       "<table border=\"1\" class=\"dataframe\">\n",
       "  <thead>\n",
       "    <tr style=\"text-align: right;\">\n",
       "      <th></th>\n",
       "      <th>cast</th>\n",
       "      <th>id</th>\n",
       "    </tr>\n",
       "  </thead>\n",
       "  <tbody>\n",
       "    <tr>\n",
       "      <th>0</th>\n",
       "      <td>[{'cast_id': 14, 'character': 'Woody (voice)',...</td>\n",
       "      <td>862</td>\n",
       "    </tr>\n",
       "    <tr>\n",
       "      <th>1</th>\n",
       "      <td>[{'cast_id': 1, 'character': 'Alan Parrish', '...</td>\n",
       "      <td>8844</td>\n",
       "    </tr>\n",
       "    <tr>\n",
       "      <th>2</th>\n",
       "      <td>[{'cast_id': 2, 'character': 'Max Goldman', 'c...</td>\n",
       "      <td>15602</td>\n",
       "    </tr>\n",
       "    <tr>\n",
       "      <th>3</th>\n",
       "      <td>[{'cast_id': 1, 'character': \"Savannah 'Vannah...</td>\n",
       "      <td>31357</td>\n",
       "    </tr>\n",
       "    <tr>\n",
       "      <th>4</th>\n",
       "      <td>[{'cast_id': 1, 'character': 'George Banks', '...</td>\n",
       "      <td>11862</td>\n",
       "    </tr>\n",
       "  </tbody>\n",
       "</table>\n",
       "</div>"
      ],
      "text/plain": [
       "                                                cast     id\n",
       "0  [{'cast_id': 14, 'character': 'Woody (voice)',...    862\n",
       "1  [{'cast_id': 1, 'character': 'Alan Parrish', '...   8844\n",
       "2  [{'cast_id': 2, 'character': 'Max Goldman', 'c...  15602\n",
       "3  [{'cast_id': 1, 'character': \"Savannah 'Vannah...  31357\n",
       "4  [{'cast_id': 1, 'character': 'George Banks', '...  11862"
      ]
     },
     "execution_count": 156,
     "metadata": {},
     "output_type": "execute_result"
    }
   ],
   "source": [
    "#verificamos resultado\n",
    "df_Cast.head()"
   ]
  },
  {
   "cell_type": "code",
   "execution_count": 157,
   "metadata": {},
   "outputs": [
    {
     "name": "stdout",
     "output_type": "stream",
     "text": [
      "<class 'str'>\n"
     ]
    }
   ],
   "source": [
    "#Verificaos tipo de dato\n",
    "print (type(df_Cast.iloc[0,0]))"
   ]
  },
  {
   "cell_type": "code",
   "execution_count": 158,
   "metadata": {},
   "outputs": [
    {
     "name": "stderr",
     "output_type": "stream",
     "text": [
      "C:\\Users\\makaw\\AppData\\Local\\Temp\\ipykernel_13832\\1751934713.py:4: SettingWithCopyWarning: \n",
      "A value is trying to be set on a copy of a slice from a DataFrame.\n",
      "Try using .loc[row_indexer,col_indexer] = value instead\n",
      "\n",
      "See the caveats in the documentation: https://pandas.pydata.org/pandas-docs/stable/user_guide/indexing.html#returning-a-view-versus-a-copy\n",
      "  df_Cast['cast'] = df_Cast['cast'].apply(lambda x: ast.literal_eval(x))\n"
     ]
    }
   ],
   "source": [
    "#dado que las los datos estan str hay que volverlos una lista\n",
    "import ast\n",
    "\n",
    "df_Cast['cast'] = df_Cast['cast'].apply(lambda x: ast.literal_eval(x))"
   ]
  },
  {
   "cell_type": "code",
   "execution_count": 159,
   "metadata": {},
   "outputs": [
    {
     "name": "stdout",
     "output_type": "stream",
     "text": [
      "<class 'list'>\n"
     ]
    }
   ],
   "source": [
    "#verificamos que ya sea una lsta\n",
    "print (type(df_Cast.iloc[0,0]))"
   ]
  },
  {
   "cell_type": "code",
   "execution_count": 160,
   "metadata": {},
   "outputs": [
    {
     "name": "stderr",
     "output_type": "stream",
     "text": [
      "C:\\Users\\makaw\\AppData\\Local\\Temp\\ipykernel_13832\\3734697849.py:5: SettingWithCopyWarning: \n",
      "A value is trying to be set on a copy of a slice from a DataFrame.\n",
      "Try using .loc[row_indexer,col_indexer] = value instead\n",
      "\n",
      "See the caveats in the documentation: https://pandas.pydata.org/pandas-docs/stable/user_guide/indexing.html#returning-a-view-versus-a-copy\n",
      "  df_Cast['cast'] = df_Cast['cast'].apply(lambda lista: [{k: v for k, v in diccionario.items() if not patron.search(k)} for diccionario in lista])\n"
     ]
    }
   ],
   "source": [
    "# Aplicar la función a la columna especificada para eliminar las keys que contienen id\n",
    "import re\n",
    "\n",
    "patron = re.compile(r'\\b\\w*id\\w*\\b')\n",
    "\n",
    "df_Cast['cast'] = df_Cast['cast'].apply(lambda lista: [{k: v for k, v in diccionario.items() if not patron.search(k)} for diccionario in lista])\n"
   ]
  },
  {
   "cell_type": "code",
   "execution_count": 161,
   "metadata": {},
   "outputs": [
    {
     "data": {
      "text/plain": [
       "[{'character': 'Woody (voice)',\n",
       "  'gender': 2,\n",
       "  'name': 'Tom Hanks',\n",
       "  'order': 0,\n",
       "  'profile_path': '/pQFoyx7rp09CJTAb932F2g8Nlho.jpg'},\n",
       " {'character': 'Buzz Lightyear (voice)',\n",
       "  'gender': 2,\n",
       "  'name': 'Tim Allen',\n",
       "  'order': 1,\n",
       "  'profile_path': '/uX2xVf6pMmPepxnvFWyBtjexzgY.jpg'},\n",
       " {'character': 'Mr. Potato Head (voice)',\n",
       "  'gender': 2,\n",
       "  'name': 'Don Rickles',\n",
       "  'order': 2,\n",
       "  'profile_path': '/h5BcaDMPRVLHLDzbQavec4xfSdt.jpg'},\n",
       " {'character': 'Slinky Dog (voice)',\n",
       "  'gender': 2,\n",
       "  'name': 'Jim Varney',\n",
       "  'order': 3,\n",
       "  'profile_path': '/eIo2jVVXYgjDtaHoF19Ll9vtW7h.jpg'},\n",
       " {'character': 'Rex (voice)',\n",
       "  'gender': 2,\n",
       "  'name': 'Wallace Shawn',\n",
       "  'order': 4,\n",
       "  'profile_path': '/oGE6JqPP2xH4tNORKNqxbNPYi7u.jpg'},\n",
       " {'character': 'Hamm (voice)',\n",
       "  'gender': 2,\n",
       "  'name': 'John Ratzenberger',\n",
       "  'order': 5,\n",
       "  'profile_path': '/yGechiKWL6TJDfVE2KPSJYqdMsY.jpg'},\n",
       " {'character': 'Bo Peep (voice)',\n",
       "  'gender': 1,\n",
       "  'name': 'Annie Potts',\n",
       "  'order': 6,\n",
       "  'profile_path': '/eryXT84RL41jHSJcMy4kS3u9y6w.jpg'},\n",
       " {'character': 'Andy (voice)',\n",
       "  'gender': 0,\n",
       "  'name': 'John Morris',\n",
       "  'order': 7,\n",
       "  'profile_path': '/vYGyvK4LzeaUCoNSHtsuqJUY15M.jpg'},\n",
       " {'character': 'Sid (voice)',\n",
       "  'gender': 2,\n",
       "  'name': 'Erik von Detten',\n",
       "  'order': 8,\n",
       "  'profile_path': '/twnF1ZaJ1FUNUuo6xLXwcxjayBE.jpg'},\n",
       " {'character': 'Mrs. Davis (voice)',\n",
       "  'gender': 1,\n",
       "  'name': 'Laurie Metcalf',\n",
       "  'order': 9,\n",
       "  'profile_path': '/unMMIT60eoBM2sN2nyR7EZ2BvvD.jpg'},\n",
       " {'character': 'Sergeant (voice)',\n",
       "  'gender': 2,\n",
       "  'name': 'R. Lee Ermey',\n",
       "  'order': 10,\n",
       "  'profile_path': '/r8GBqFBjypLUP9VVqDqfZ7wYbSs.jpg'},\n",
       " {'character': 'Hannah (voice)',\n",
       "  'gender': 1,\n",
       "  'name': 'Sarah Freeman',\n",
       "  'order': 11,\n",
       "  'profile_path': None},\n",
       " {'character': 'TV Announcer (voice)',\n",
       "  'gender': 2,\n",
       "  'name': 'Penn Jillette',\n",
       "  'order': 12,\n",
       "  'profile_path': '/zmAaXUdx12NRsssgHbk1T31j2x9.jpg'}]"
      ]
     },
     "execution_count": 161,
     "metadata": {},
     "output_type": "execute_result"
    }
   ],
   "source": [
    "# Verificamos\n",
    "df_Cast.iloc[0,0]"
   ]
  },
  {
   "cell_type": "code",
   "execution_count": 162,
   "metadata": {},
   "outputs": [
    {
     "data": {
      "text/html": [
       "<div>\n",
       "<style scoped>\n",
       "    .dataframe tbody tr th:only-of-type {\n",
       "        vertical-align: middle;\n",
       "    }\n",
       "\n",
       "    .dataframe tbody tr th {\n",
       "        vertical-align: top;\n",
       "    }\n",
       "\n",
       "    .dataframe thead th {\n",
       "        text-align: right;\n",
       "    }\n",
       "</style>\n",
       "<table border=\"1\" class=\"dataframe\">\n",
       "  <thead>\n",
       "    <tr style=\"text-align: right;\">\n",
       "      <th></th>\n",
       "      <th>cast</th>\n",
       "      <th>id</th>\n",
       "    </tr>\n",
       "  </thead>\n",
       "  <tbody>\n",
       "    <tr>\n",
       "      <th>0</th>\n",
       "      <td>[{'character': 'Woody (voice)', 'gender': 2, '...</td>\n",
       "      <td>862</td>\n",
       "    </tr>\n",
       "    <tr>\n",
       "      <th>1</th>\n",
       "      <td>[{'character': 'Alan Parrish', 'gender': 2, 'n...</td>\n",
       "      <td>8844</td>\n",
       "    </tr>\n",
       "    <tr>\n",
       "      <th>2</th>\n",
       "      <td>[{'character': 'Max Goldman', 'gender': 2, 'na...</td>\n",
       "      <td>15602</td>\n",
       "    </tr>\n",
       "    <tr>\n",
       "      <th>3</th>\n",
       "      <td>[{'character': 'Savannah 'Vannah' Jackson', 'g...</td>\n",
       "      <td>31357</td>\n",
       "    </tr>\n",
       "    <tr>\n",
       "      <th>4</th>\n",
       "      <td>[{'character': 'George Banks', 'gender': 2, 'n...</td>\n",
       "      <td>11862</td>\n",
       "    </tr>\n",
       "  </tbody>\n",
       "</table>\n",
       "</div>"
      ],
      "text/plain": [
       "                                                cast     id\n",
       "0  [{'character': 'Woody (voice)', 'gender': 2, '...    862\n",
       "1  [{'character': 'Alan Parrish', 'gender': 2, 'n...   8844\n",
       "2  [{'character': 'Max Goldman', 'gender': 2, 'na...  15602\n",
       "3  [{'character': 'Savannah 'Vannah' Jackson', 'g...  31357\n",
       "4  [{'character': 'George Banks', 'gender': 2, 'n...  11862"
      ]
     },
     "execution_count": 162,
     "metadata": {},
     "output_type": "execute_result"
    }
   ],
   "source": [
    "df_Cast.head()"
   ]
  },
  {
   "cell_type": "code",
   "execution_count": 163,
   "metadata": {},
   "outputs": [],
   "source": [
    "df_Cast.to_csv('ETL\\credits_Cast_ETL.csv', index=False)"
   ]
  },
  {
   "cell_type": "code",
   "execution_count": null,
   "metadata": {},
   "outputs": [],
   "source": []
  },
  {
   "attachments": {},
   "cell_type": "markdown",
   "metadata": {},
   "source": [
    "Haremos los mimos con  crew"
   ]
  },
  {
   "cell_type": "code",
   "execution_count": 164,
   "metadata": {},
   "outputs": [],
   "source": [
    "columnas_crew = ['crew', 'id']\n",
    "df_crew = credits[columnas_crew]"
   ]
  },
  {
   "cell_type": "code",
   "execution_count": 165,
   "metadata": {},
   "outputs": [
    {
     "data": {
      "text/html": [
       "<div>\n",
       "<style scoped>\n",
       "    .dataframe tbody tr th:only-of-type {\n",
       "        vertical-align: middle;\n",
       "    }\n",
       "\n",
       "    .dataframe tbody tr th {\n",
       "        vertical-align: top;\n",
       "    }\n",
       "\n",
       "    .dataframe thead th {\n",
       "        text-align: right;\n",
       "    }\n",
       "</style>\n",
       "<table border=\"1\" class=\"dataframe\">\n",
       "  <thead>\n",
       "    <tr style=\"text-align: right;\">\n",
       "      <th></th>\n",
       "      <th>crew</th>\n",
       "      <th>id</th>\n",
       "    </tr>\n",
       "  </thead>\n",
       "  <tbody>\n",
       "    <tr>\n",
       "      <th>0</th>\n",
       "      <td>[{'credit_id': '52fe4284c3a36847f8024f49', 'de...</td>\n",
       "      <td>862</td>\n",
       "    </tr>\n",
       "    <tr>\n",
       "      <th>1</th>\n",
       "      <td>[{'credit_id': '52fe44bfc3a36847f80a7cd1', 'de...</td>\n",
       "      <td>8844</td>\n",
       "    </tr>\n",
       "    <tr>\n",
       "      <th>2</th>\n",
       "      <td>[{'credit_id': '52fe466a9251416c75077a89', 'de...</td>\n",
       "      <td>15602</td>\n",
       "    </tr>\n",
       "    <tr>\n",
       "      <th>3</th>\n",
       "      <td>[{'credit_id': '52fe44779251416c91011acb', 'de...</td>\n",
       "      <td>31357</td>\n",
       "    </tr>\n",
       "    <tr>\n",
       "      <th>4</th>\n",
       "      <td>[{'credit_id': '52fe44959251416c75039ed7', 'de...</td>\n",
       "      <td>11862</td>\n",
       "    </tr>\n",
       "  </tbody>\n",
       "</table>\n",
       "</div>"
      ],
      "text/plain": [
       "                                                crew     id\n",
       "0  [{'credit_id': '52fe4284c3a36847f8024f49', 'de...    862\n",
       "1  [{'credit_id': '52fe44bfc3a36847f80a7cd1', 'de...   8844\n",
       "2  [{'credit_id': '52fe466a9251416c75077a89', 'de...  15602\n",
       "3  [{'credit_id': '52fe44779251416c91011acb', 'de...  31357\n",
       "4  [{'credit_id': '52fe44959251416c75039ed7', 'de...  11862"
      ]
     },
     "execution_count": 165,
     "metadata": {},
     "output_type": "execute_result"
    }
   ],
   "source": [
    "df_crew.head()"
   ]
  },
  {
   "cell_type": "code",
   "execution_count": 166,
   "metadata": {},
   "outputs": [
    {
     "name": "stdout",
     "output_type": "stream",
     "text": [
      "<class 'str'>\n"
     ]
    }
   ],
   "source": [
    "#Verificaos tipo de dato\n",
    "print (type(df_crew.iloc[0,0]))"
   ]
  },
  {
   "cell_type": "code",
   "execution_count": 167,
   "metadata": {},
   "outputs": [
    {
     "name": "stderr",
     "output_type": "stream",
     "text": [
      "C:\\Users\\makaw\\AppData\\Local\\Temp\\ipykernel_13832\\3905648055.py:4: SettingWithCopyWarning: \n",
      "A value is trying to be set on a copy of a slice from a DataFrame.\n",
      "Try using .loc[row_indexer,col_indexer] = value instead\n",
      "\n",
      "See the caveats in the documentation: https://pandas.pydata.org/pandas-docs/stable/user_guide/indexing.html#returning-a-view-versus-a-copy\n",
      "  df_crew['crew'] = df_crew['crew'].apply(lambda x: ast.literal_eval(x))\n"
     ]
    }
   ],
   "source": [
    "#dado que las los datos estan str hay que volverlos una lista\n",
    "import ast\n",
    "\n",
    "df_crew['crew'] = df_crew['crew'].apply(lambda x: ast.literal_eval(x))"
   ]
  },
  {
   "cell_type": "code",
   "execution_count": 169,
   "metadata": {},
   "outputs": [
    {
     "name": "stdout",
     "output_type": "stream",
     "text": [
      "<class 'list'>\n"
     ]
    }
   ],
   "source": [
    "#verificamos que ya sea una lsta\n",
    "print (type(df_crew.iloc[0,0]))"
   ]
  },
  {
   "cell_type": "code",
   "execution_count": null,
   "metadata": {},
   "outputs": [],
   "source": [
    "\n"
   ]
  },
  {
   "cell_type": "code",
   "execution_count": 170,
   "metadata": {},
   "outputs": [
    {
     "name": "stderr",
     "output_type": "stream",
     "text": [
      "C:\\Users\\makaw\\AppData\\Local\\Temp\\ipykernel_13832\\1398599645.py:6: SettingWithCopyWarning: \n",
      "A value is trying to be set on a copy of a slice from a DataFrame.\n",
      "Try using .loc[row_indexer,col_indexer] = value instead\n",
      "\n",
      "See the caveats in the documentation: https://pandas.pydata.org/pandas-docs/stable/user_guide/indexing.html#returning-a-view-versus-a-copy\n",
      "  df_crew['crew'] = df_crew['crew'].apply(lambda lista: [{k: v for k, v in diccionario.items() if not patron.search(k)} for diccionario in lista])\n"
     ]
    }
   ],
   "source": [
    "# Aplicar la función a la columna especificada para eliminar las keys que contienen id\n",
    "import re\n",
    "\n",
    "# Definición del patrón de expresión regular para filtrar las claves\n",
    "patron = re.compile(r'\\b\\w*id\\w*\\b')\n",
    "\n",
    "# Aplicar el filtro a la columna 'cast' utilizando una función lambda\n",
    "df_Cast['cast'] = df_Cast['cast'].apply(lambda lista: [{k: v for k, v in diccionario.items() if not patron.search(k)} for diccionario in lista])\n",
    "\n",
    "# El código utiliza expresiones regulares para filtrar las claves de los diccionarios en la columna 'cast' del DataFrame\n",
    "\n",
    "# Creamos un patrón de expresión regular utilizando \\b para representar un límite de palabra,\n",
    "# \\w para coincidir con cualquier carácter alfanumérico y * para permitir cero o más repeticiones del carácter anterior\n",
    "\n",
    "# Luego, aplicamos una función lambda a la columna 'cast' del DataFrame para realizar el filtrado\n",
    "\n",
    "# La función lambda toma una lista de diccionarios y crea una nueva lista de diccionarios con las claves filtradas\n",
    "\n",
    "# Iteramos sobre cada diccionario en la lista y creamos un nuevo diccionario solo con las claves que no coinciden con el patrón\n",
    "\n",
    "# Los resultados filtrados se asignan nuevamente a la columna 'cast' del DataFrame df_Cast\n"
   ]
  },
  {
   "cell_type": "code",
   "execution_count": 171,
   "metadata": {},
   "outputs": [
    {
     "data": {
      "text/plain": [
       "[{'department': 'Directing',\n",
       "  'gender': 2,\n",
       "  'job': 'Director',\n",
       "  'name': 'John Lasseter',\n",
       "  'profile_path': '/7EdqiNbr4FRjIhKHyPPdFfEEEFG.jpg'},\n",
       " {'department': 'Writing',\n",
       "  'gender': 2,\n",
       "  'job': 'Screenplay',\n",
       "  'name': 'Joss Whedon',\n",
       "  'profile_path': '/dTiVsuaTVTeGmvkhcyJvKp2A5kr.jpg'},\n",
       " {'department': 'Writing',\n",
       "  'gender': 2,\n",
       "  'job': 'Screenplay',\n",
       "  'name': 'Andrew Stanton',\n",
       "  'profile_path': '/pvQWsu0qc8JFQhMVJkTHuexUAa1.jpg'},\n",
       " {'department': 'Writing',\n",
       "  'gender': 2,\n",
       "  'job': 'Screenplay',\n",
       "  'name': 'Joel Cohen',\n",
       "  'profile_path': '/dAubAiZcvKFbboWlj7oXOkZnTSu.jpg'},\n",
       " {'department': 'Writing',\n",
       "  'gender': 0,\n",
       "  'job': 'Screenplay',\n",
       "  'name': 'Alec Sokolow',\n",
       "  'profile_path': '/v79vlRYi94BZUQnkkyznbGUZLjT.jpg'},\n",
       " {'department': 'Production',\n",
       "  'gender': 1,\n",
       "  'job': 'Producer',\n",
       "  'name': 'Bonnie Arnold',\n",
       "  'profile_path': None},\n",
       " {'department': 'Production',\n",
       "  'gender': 0,\n",
       "  'job': 'Executive Producer',\n",
       "  'name': 'Ed Catmull',\n",
       "  'profile_path': None},\n",
       " {'department': 'Production',\n",
       "  'gender': 2,\n",
       "  'job': 'Producer',\n",
       "  'name': 'Ralph Guggenheim',\n",
       "  'profile_path': None},\n",
       " {'department': 'Production',\n",
       "  'gender': 2,\n",
       "  'job': 'Executive Producer',\n",
       "  'name': 'Steve Jobs',\n",
       "  'profile_path': '/mOMP3SwD5qWQSR0ldCIByd3guTV.jpg'},\n",
       " {'department': 'Editing',\n",
       "  'gender': 2,\n",
       "  'job': 'Editor',\n",
       "  'name': 'Lee Unkrich',\n",
       "  'profile_path': '/bdTCCXjgOV3YyaNmLGYGOxFQMOc.jpg'},\n",
       " {'department': 'Art',\n",
       "  'gender': 2,\n",
       "  'job': 'Art Direction',\n",
       "  'name': 'Ralph Eggleston',\n",
       "  'profile_path': '/uUfcGKDsKO1aROMpXRs67Hn6RvR.jpg'},\n",
       " {'department': 'Editing',\n",
       "  'gender': 2,\n",
       "  'job': 'Editor',\n",
       "  'name': 'Robert Gordon',\n",
       "  'profile_path': None},\n",
       " {'department': 'Sound',\n",
       "  'gender': 0,\n",
       "  'job': 'Foley Editor',\n",
       "  'name': 'Mary Helen Leasman',\n",
       "  'profile_path': None},\n",
       " {'department': 'Visual Effects',\n",
       "  'gender': 0,\n",
       "  'job': 'Animation',\n",
       "  'name': 'Kim Blanchette',\n",
       "  'profile_path': None},\n",
       " {'department': 'Sound',\n",
       "  'gender': 0,\n",
       "  'job': 'ADR Editor',\n",
       "  'name': 'Marilyn McCoppen',\n",
       "  'profile_path': None},\n",
       " {'department': 'Sound',\n",
       "  'gender': 2,\n",
       "  'job': 'Orchestrator',\n",
       "  'name': 'Randy Newman',\n",
       "  'profile_path': '/w0JzfoiM25nrnxYOzosPHRq6mlE.jpg'},\n",
       " {'department': 'Editing',\n",
       "  'gender': 0,\n",
       "  'job': 'Color Timer',\n",
       "  'name': 'Dale E. Grahn',\n",
       "  'profile_path': None},\n",
       " {'department': 'Visual Effects',\n",
       "  'gender': 0,\n",
       "  'job': 'CG Painter',\n",
       "  'name': 'Robin Cooper',\n",
       "  'profile_path': None},\n",
       " {'department': 'Writing',\n",
       "  'gender': 2,\n",
       "  'job': 'Original Story',\n",
       "  'name': 'John Lasseter',\n",
       "  'profile_path': '/7EdqiNbr4FRjIhKHyPPdFfEEEFG.jpg'},\n",
       " {'department': 'Writing',\n",
       "  'gender': 2,\n",
       "  'job': 'Original Story',\n",
       "  'name': 'Pete Docter',\n",
       "  'profile_path': '/r6ngPgnReA3RHmKjmSoVsc6Awjp.jpg'},\n",
       " {'department': 'Writing',\n",
       "  'gender': 0,\n",
       "  'job': 'Original Story',\n",
       "  'name': 'Joe Ranft',\n",
       "  'profile_path': '/f1BoWC2JbCcfP1e5hKfGsxkHzVU.jpg'},\n",
       " {'department': 'Crew',\n",
       "  'gender': 0,\n",
       "  'job': 'Post Production Supervisor',\n",
       "  'name': 'Patsy Bouge',\n",
       "  'profile_path': None},\n",
       " {'department': 'Art',\n",
       "  'gender': 0,\n",
       "  'job': 'Sculptor',\n",
       "  'name': 'Norm DeCarlo',\n",
       "  'profile_path': None},\n",
       " {'department': 'Visual Effects',\n",
       "  'gender': 2,\n",
       "  'job': 'Animation Director',\n",
       "  'name': 'Ash Brannon',\n",
       "  'profile_path': '/6ueWgPEEBHvS3De2BHYQnYjRTig.jpg'},\n",
       " {'department': 'Sound',\n",
       "  'gender': 2,\n",
       "  'job': 'Music',\n",
       "  'name': 'Randy Newman',\n",
       "  'profile_path': '/w0JzfoiM25nrnxYOzosPHRq6mlE.jpg'},\n",
       " {'department': 'Directing',\n",
       "  'gender': 0,\n",
       "  'job': 'Layout',\n",
       "  'name': 'Roman Figun',\n",
       "  'profile_path': None},\n",
       " {'department': 'Sound',\n",
       "  'gender': 2,\n",
       "  'job': 'Orchestrator',\n",
       "  'name': 'Don Davis',\n",
       "  'profile_path': None},\n",
       " {'department': 'Sound',\n",
       "  'gender': 0,\n",
       "  'job': 'Music Editor',\n",
       "  'name': 'James Flamberg',\n",
       "  'profile_path': None},\n",
       " {'department': 'Editing',\n",
       "  'gender': 0,\n",
       "  'job': 'Negative Cutter',\n",
       "  'name': 'Mary Beth Smith',\n",
       "  'profile_path': None},\n",
       " {'department': 'Editing',\n",
       "  'gender': 0,\n",
       "  'job': 'Negative Cutter',\n",
       "  'name': 'Rick Mackay',\n",
       "  'profile_path': None},\n",
       " {'department': 'Art',\n",
       "  'gender': 0,\n",
       "  'job': 'Title Designer',\n",
       "  'name': 'Susan Bradley',\n",
       "  'profile_path': None},\n",
       " {'department': 'Crew',\n",
       "  'gender': 0,\n",
       "  'job': 'Supervising Technical Director',\n",
       "  'name': 'William Reeves',\n",
       "  'profile_path': None},\n",
       " {'department': 'Sound',\n",
       "  'gender': 2,\n",
       "  'job': 'Songs',\n",
       "  'name': 'Randy Newman',\n",
       "  'profile_path': '/w0JzfoiM25nrnxYOzosPHRq6mlE.jpg'},\n",
       " {'department': 'Writing',\n",
       "  'gender': 2,\n",
       "  'job': 'Original Story',\n",
       "  'name': 'Andrew Stanton',\n",
       "  'profile_path': '/pvQWsu0qc8JFQhMVJkTHuexUAa1.jpg'},\n",
       " {'department': 'Crew',\n",
       "  'gender': 2,\n",
       "  'job': 'Supervising Animator',\n",
       "  'name': 'Pete Docter',\n",
       "  'profile_path': '/r6ngPgnReA3RHmKjmSoVsc6Awjp.jpg'},\n",
       " {'department': 'Sound',\n",
       "  'gender': 2,\n",
       "  'job': 'Sound Designer',\n",
       "  'name': 'Gary Rydstrom',\n",
       "  'profile_path': '/jZpr1nVfO7lldWI0YtmP1FGw7Rj.jpg'},\n",
       " {'department': 'Production',\n",
       "  'gender': 0,\n",
       "  'job': 'Production Supervisor',\n",
       "  'name': 'Karen Robert Jackson',\n",
       "  'profile_path': None},\n",
       " {'department': 'Crew',\n",
       "  'gender': 0,\n",
       "  'job': 'Executive Music Producer',\n",
       "  'name': 'Chris Montan',\n",
       "  'profile_path': None},\n",
       " {'department': 'Visual Effects',\n",
       "  'gender': 0,\n",
       "  'job': 'Animation Director',\n",
       "  'name': 'Rich Quade',\n",
       "  'profile_path': None},\n",
       " {'department': 'Visual Effects',\n",
       "  'gender': 0,\n",
       "  'job': 'Animation',\n",
       "  'name': 'Michael Berenstein',\n",
       "  'profile_path': None},\n",
       " {'department': 'Visual Effects',\n",
       "  'gender': 0,\n",
       "  'job': 'Animation',\n",
       "  'name': 'Colin Brady',\n",
       "  'profile_path': None},\n",
       " {'department': 'Visual Effects',\n",
       "  'gender': 0,\n",
       "  'job': 'Animation',\n",
       "  'name': 'Davey Crockett Feiten',\n",
       "  'profile_path': None},\n",
       " {'department': 'Visual Effects',\n",
       "  'gender': 0,\n",
       "  'job': 'Animation',\n",
       "  'name': 'Angie Glocka',\n",
       "  'profile_path': None},\n",
       " {'department': 'Visual Effects',\n",
       "  'gender': 0,\n",
       "  'job': 'Animation',\n",
       "  'name': 'Rex Grignon',\n",
       "  'profile_path': None},\n",
       " {'department': 'Visual Effects',\n",
       "  'gender': 0,\n",
       "  'job': 'Animation',\n",
       "  'name': 'Tom K. Gurney',\n",
       "  'profile_path': None},\n",
       " {'department': 'Visual Effects',\n",
       "  'gender': 2,\n",
       "  'job': 'Animation',\n",
       "  'name': 'Jimmy Hayward',\n",
       "  'profile_path': '/lTDRpudEY7BDwTefXbXzMlmb0ui.jpg'},\n",
       " {'department': 'Visual Effects',\n",
       "  'gender': 0,\n",
       "  'job': 'Animation',\n",
       "  'name': 'Hal T. Hickel',\n",
       "  'profile_path': None},\n",
       " {'department': 'Visual Effects',\n",
       "  'gender': 0,\n",
       "  'job': 'Animation',\n",
       "  'name': 'Karen Kiser',\n",
       "  'profile_path': None},\n",
       " {'department': 'Visual Effects',\n",
       "  'gender': 0,\n",
       "  'job': 'Animation',\n",
       "  'name': 'Anthony B. LaMolinara',\n",
       "  'profile_path': None},\n",
       " {'department': 'Visual Effects',\n",
       "  'gender': 0,\n",
       "  'job': 'Animation',\n",
       "  'name': 'Guionne Leroy',\n",
       "  'profile_path': None},\n",
       " {'department': 'Visual Effects',\n",
       "  'gender': 2,\n",
       "  'job': 'Animation',\n",
       "  'name': 'Bud Luckey',\n",
       "  'profile_path': '/pcCh7G19FKMNijmPQg1PMH1btic.jpg'},\n",
       " {'department': 'Visual Effects',\n",
       "  'gender': 0,\n",
       "  'job': 'Animation',\n",
       "  'name': 'Les Major',\n",
       "  'profile_path': None},\n",
       " {'department': 'Visual Effects',\n",
       "  'gender': 2,\n",
       "  'job': 'Animation',\n",
       "  'name': 'Glenn McQueen',\n",
       "  'profile_path': None},\n",
       " {'department': 'Visual Effects',\n",
       "  'gender': 0,\n",
       "  'job': 'Animation',\n",
       "  'name': 'Mark Oftedal',\n",
       "  'profile_path': None},\n",
       " {'department': 'Visual Effects',\n",
       "  'gender': 2,\n",
       "  'job': 'Animation',\n",
       "  'name': 'Jeff Pidgeon',\n",
       "  'profile_path': '/yLddkg5HcgbJg00cS13GVBnP0HY.jpg'},\n",
       " {'department': 'Visual Effects',\n",
       "  'gender': 0,\n",
       "  'job': 'Animation',\n",
       "  'name': 'Jeff Pratt',\n",
       "  'profile_path': None},\n",
       " {'department': 'Visual Effects',\n",
       "  'gender': 0,\n",
       "  'job': 'Animation',\n",
       "  'name': 'Steve Rabatich',\n",
       "  'profile_path': None},\n",
       " {'department': 'Visual Effects',\n",
       "  'gender': 0,\n",
       "  'job': 'Animation',\n",
       "  'name': 'Roger Rose',\n",
       "  'profile_path': None},\n",
       " {'department': 'Visual Effects',\n",
       "  'gender': 0,\n",
       "  'job': 'Animation',\n",
       "  'name': 'Steve Segal',\n",
       "  'profile_path': None},\n",
       " {'department': 'Visual Effects',\n",
       "  'gender': 0,\n",
       "  'job': 'Animation',\n",
       "  'name': 'Doug Sheppeck',\n",
       "  'profile_path': None},\n",
       " {'department': 'Visual Effects',\n",
       "  'gender': 0,\n",
       "  'job': 'Animation',\n",
       "  'name': 'Alan Sperling',\n",
       "  'profile_path': None},\n",
       " {'department': 'Visual Effects',\n",
       "  'gender': 0,\n",
       "  'job': 'Animation',\n",
       "  'name': 'Doug Sweetland',\n",
       "  'profile_path': None},\n",
       " {'department': 'Visual Effects',\n",
       "  'gender': 0,\n",
       "  'job': 'Animation',\n",
       "  'name': 'David Tart',\n",
       "  'profile_path': None},\n",
       " {'department': 'Visual Effects',\n",
       "  'gender': 0,\n",
       "  'job': 'Animation',\n",
       "  'name': 'Ken Willard',\n",
       "  'profile_path': None},\n",
       " {'department': 'Visual Effects',\n",
       "  'gender': 0,\n",
       "  'job': 'Visual Effects Supervisor',\n",
       "  'name': 'Thomas Porter',\n",
       "  'profile_path': None},\n",
       " {'department': 'Visual Effects',\n",
       "  'gender': 0,\n",
       "  'job': 'Visual Effects',\n",
       "  'name': 'Mark Thomas Henne',\n",
       "  'profile_path': None},\n",
       " {'department': 'Visual Effects',\n",
       "  'gender': 0,\n",
       "  'job': 'Visual Effects',\n",
       "  'name': 'Oren Jacob',\n",
       "  'profile_path': None},\n",
       " {'department': 'Visual Effects',\n",
       "  'gender': 0,\n",
       "  'job': 'Visual Effects',\n",
       "  'name': 'Darwyn Peachey',\n",
       "  'profile_path': None},\n",
       " {'department': 'Visual Effects',\n",
       "  'gender': 0,\n",
       "  'job': 'Visual Effects',\n",
       "  'name': 'Mitch Prater',\n",
       "  'profile_path': None},\n",
       " {'department': 'Visual Effects',\n",
       "  'gender': 0,\n",
       "  'job': 'Visual Effects',\n",
       "  'name': 'Brian M. Rosen',\n",
       "  'profile_path': None},\n",
       " {'department': 'Lighting',\n",
       "  'gender': 1,\n",
       "  'job': 'Lighting Supervisor',\n",
       "  'name': 'Sharon Calahan',\n",
       "  'profile_path': None},\n",
       " {'department': 'Lighting',\n",
       "  'gender': 0,\n",
       "  'job': 'Lighting Supervisor',\n",
       "  'name': 'Galyn Susman',\n",
       "  'profile_path': None},\n",
       " {'department': 'Visual Effects',\n",
       "  'gender': 0,\n",
       "  'job': 'CG Painter',\n",
       "  'name': 'William Cone',\n",
       "  'profile_path': None},\n",
       " {'department': 'Art',\n",
       "  'gender': 0,\n",
       "  'job': 'Sculptor',\n",
       "  'name': 'Shelley Daniels Lekven',\n",
       "  'profile_path': None},\n",
       " {'department': 'Visual Effects',\n",
       "  'gender': 2,\n",
       "  'job': 'Character Designer',\n",
       "  'name': 'Bob Pauley',\n",
       "  'profile_path': None},\n",
       " {'department': 'Visual Effects',\n",
       "  'gender': 2,\n",
       "  'job': 'Character Designer',\n",
       "  'name': 'Bud Luckey',\n",
       "  'profile_path': '/pcCh7G19FKMNijmPQg1PMH1btic.jpg'},\n",
       " {'department': 'Visual Effects',\n",
       "  'gender': 2,\n",
       "  'job': 'Character Designer',\n",
       "  'name': 'Andrew Stanton',\n",
       "  'profile_path': '/pvQWsu0qc8JFQhMVJkTHuexUAa1.jpg'},\n",
       " {'department': 'Visual Effects',\n",
       "  'gender': 0,\n",
       "  'job': 'Character Designer',\n",
       "  'name': 'William Cone',\n",
       "  'profile_path': None},\n",
       " {'department': 'Visual Effects',\n",
       "  'gender': 0,\n",
       "  'job': 'Character Designer',\n",
       "  'name': 'Steve Johnson',\n",
       "  'profile_path': None},\n",
       " {'department': 'Visual Effects',\n",
       "  'gender': 0,\n",
       "  'job': 'Character Designer',\n",
       "  'name': 'Dan Haskett',\n",
       "  'profile_path': None},\n",
       " {'department': 'Visual Effects',\n",
       "  'gender': 0,\n",
       "  'job': 'Character Designer',\n",
       "  'name': 'Tom Holloway',\n",
       "  'profile_path': '/a0r0T2usTBpgMI5aZbRBDW1fTl8.jpg'},\n",
       " {'department': 'Visual Effects',\n",
       "  'gender': 0,\n",
       "  'job': 'Character Designer',\n",
       "  'name': 'Jean Gillmore',\n",
       "  'profile_path': None},\n",
       " {'department': 'Directing',\n",
       "  'gender': 0,\n",
       "  'job': 'Layout',\n",
       "  'name': 'Desirée Mourad',\n",
       "  'profile_path': None},\n",
       " {'department': 'Art',\n",
       "  'gender': 0,\n",
       "  'job': 'Set Dresser',\n",
       "  'name': \"Kelly O'Connell\",\n",
       "  'profile_path': None},\n",
       " {'department': 'Art',\n",
       "  'gender': 0,\n",
       "  'job': 'Set Dresser',\n",
       "  'name': 'Sonoko Konishi',\n",
       "  'profile_path': None},\n",
       " {'department': 'Art',\n",
       "  'gender': 0,\n",
       "  'job': 'Set Dresser',\n",
       "  'name': 'Ann M. Rockwell',\n",
       "  'profile_path': None},\n",
       " {'department': 'Editing',\n",
       "  'gender': 0,\n",
       "  'job': 'Editorial Manager',\n",
       "  'name': 'Julie M. McDonald',\n",
       "  'profile_path': None},\n",
       " {'department': 'Editing',\n",
       "  'gender': 0,\n",
       "  'job': 'Assistant Editor',\n",
       "  'name': 'Robin Lee',\n",
       "  'profile_path': None},\n",
       " {'department': 'Editing',\n",
       "  'gender': 0,\n",
       "  'job': 'Assistant Editor',\n",
       "  'name': 'Tom Freeman',\n",
       "  'profile_path': None},\n",
       " {'department': 'Editing',\n",
       "  'gender': 0,\n",
       "  'job': 'Assistant Editor',\n",
       "  'name': 'Ada Cochavi',\n",
       "  'profile_path': None},\n",
       " {'department': 'Editing',\n",
       "  'gender': 0,\n",
       "  'job': 'Assistant Editor',\n",
       "  'name': 'Dana Mulligan',\n",
       "  'profile_path': None},\n",
       " {'department': 'Editing',\n",
       "  'gender': 0,\n",
       "  'job': 'Editorial Coordinator',\n",
       "  'name': 'Deirdre Morrison',\n",
       "  'profile_path': None},\n",
       " {'department': 'Production',\n",
       "  'gender': 0,\n",
       "  'job': 'Production Coordinator',\n",
       "  'name': 'Lori Lombardo',\n",
       "  'profile_path': None},\n",
       " {'department': 'Production',\n",
       "  'gender': 0,\n",
       "  'job': 'Production Coordinator',\n",
       "  'name': 'Ellen Devine',\n",
       "  'profile_path': None},\n",
       " {'department': 'Crew',\n",
       "  'gender': 0,\n",
       "  'job': 'Unit Publicist',\n",
       "  'name': 'Lauren Beth Strogoff',\n",
       "  'profile_path': None},\n",
       " {'department': 'Sound',\n",
       "  'gender': 2,\n",
       "  'job': 'Sound Re-Recording Mixer',\n",
       "  'name': 'Gary Rydstrom',\n",
       "  'profile_path': '/jZpr1nVfO7lldWI0YtmP1FGw7Rj.jpg'},\n",
       " {'department': 'Sound',\n",
       "  'gender': 0,\n",
       "  'job': 'Sound Re-Recording Mixer',\n",
       "  'name': 'Gary Summers',\n",
       "  'profile_path': None},\n",
       " {'department': 'Sound',\n",
       "  'gender': 2,\n",
       "  'job': 'Supervising Sound Editor',\n",
       "  'name': 'Tim Holland',\n",
       "  'profile_path': None},\n",
       " {'department': 'Sound',\n",
       "  'gender': 0,\n",
       "  'job': 'Sound Effects Editor',\n",
       "  'name': 'Pat Jackson',\n",
       "  'profile_path': None},\n",
       " {'department': 'Crew',\n",
       "  'gender': 2,\n",
       "  'job': 'Sound Design Assistant',\n",
       "  'name': 'Tom Myers',\n",
       "  'profile_path': None},\n",
       " {'department': 'Sound',\n",
       "  'gender': 0,\n",
       "  'job': 'Assistant Sound Editor',\n",
       "  'name': 'J.R. Grubbs',\n",
       "  'profile_path': None},\n",
       " {'department': 'Sound',\n",
       "  'gender': 1,\n",
       "  'job': 'Assistant Sound Editor',\n",
       "  'name': 'Susan Sanford',\n",
       "  'profile_path': None},\n",
       " {'department': 'Sound',\n",
       "  'gender': 0,\n",
       "  'job': 'Assistant Sound Editor',\n",
       "  'name': 'Susan Popovic',\n",
       "  'profile_path': None},\n",
       " {'department': 'Sound',\n",
       "  'gender': 0,\n",
       "  'job': 'Assistant Sound Editor',\n",
       "  'name': 'Dan Engstrom',\n",
       "  'profile_path': None},\n",
       " {'department': 'Production',\n",
       "  'gender': 1,\n",
       "  'job': 'Casting Consultant',\n",
       "  'name': 'Ruth Lambert',\n",
       "  'profile_path': None},\n",
       " {'department': 'Production',\n",
       "  'gender': 0,\n",
       "  'job': 'ADR Voice Casting',\n",
       "  'name': 'Mickie McGowan',\n",
       "  'profile_path': '/k7TjJBfINsg8vLQxJwos6XObAD6.jpg'}]"
      ]
     },
     "execution_count": 171,
     "metadata": {},
     "output_type": "execute_result"
    }
   ],
   "source": [
    "#Verificamos\n",
    "df_crew.iloc[0,0]\n"
   ]
  },
  {
   "cell_type": "code",
   "execution_count": 172,
   "metadata": {},
   "outputs": [
    {
     "data": {
      "text/html": [
       "<div>\n",
       "<style scoped>\n",
       "    .dataframe tbody tr th:only-of-type {\n",
       "        vertical-align: middle;\n",
       "    }\n",
       "\n",
       "    .dataframe tbody tr th {\n",
       "        vertical-align: top;\n",
       "    }\n",
       "\n",
       "    .dataframe thead th {\n",
       "        text-align: right;\n",
       "    }\n",
       "</style>\n",
       "<table border=\"1\" class=\"dataframe\">\n",
       "  <thead>\n",
       "    <tr style=\"text-align: right;\">\n",
       "      <th></th>\n",
       "      <th>crew</th>\n",
       "      <th>id</th>\n",
       "    </tr>\n",
       "  </thead>\n",
       "  <tbody>\n",
       "    <tr>\n",
       "      <th>0</th>\n",
       "      <td>[{'department': 'Directing', 'gender': 2, 'job...</td>\n",
       "      <td>862</td>\n",
       "    </tr>\n",
       "    <tr>\n",
       "      <th>1</th>\n",
       "      <td>[{'department': 'Production', 'gender': 2, 'jo...</td>\n",
       "      <td>8844</td>\n",
       "    </tr>\n",
       "    <tr>\n",
       "      <th>2</th>\n",
       "      <td>[{'department': 'Directing', 'gender': 2, 'job...</td>\n",
       "      <td>15602</td>\n",
       "    </tr>\n",
       "    <tr>\n",
       "      <th>3</th>\n",
       "      <td>[{'department': 'Directing', 'gender': 2, 'job...</td>\n",
       "      <td>31357</td>\n",
       "    </tr>\n",
       "    <tr>\n",
       "      <th>4</th>\n",
       "      <td>[{'department': 'Sound', 'gender': 2, 'job': '...</td>\n",
       "      <td>11862</td>\n",
       "    </tr>\n",
       "  </tbody>\n",
       "</table>\n",
       "</div>"
      ],
      "text/plain": [
       "                                                crew     id\n",
       "0  [{'department': 'Directing', 'gender': 2, 'job...    862\n",
       "1  [{'department': 'Production', 'gender': 2, 'jo...   8844\n",
       "2  [{'department': 'Directing', 'gender': 2, 'job...  15602\n",
       "3  [{'department': 'Directing', 'gender': 2, 'job...  31357\n",
       "4  [{'department': 'Sound', 'gender': 2, 'job': '...  11862"
      ]
     },
     "execution_count": 172,
     "metadata": {},
     "output_type": "execute_result"
    }
   ],
   "source": [
    "df_crew.head()"
   ]
  },
  {
   "cell_type": "code",
   "execution_count": 175,
   "metadata": {},
   "outputs": [],
   "source": [
    "df_crew.to_csv('ETL\\credits_crew_ETL.csv', index=False)"
   ]
  },
  {
   "cell_type": "code",
   "execution_count": null,
   "metadata": {},
   "outputs": [],
   "source": [
    "\n",
    "# Definir función para eliminar claves con la palabra \"id\" de manera parcial\n",
    "def eliminar_claves_id(diccionario):\n",
    "    patron = re.compile(r'\\b\\w*id\\w*\\b', flags=re.IGNORECASE)\n",
    "    diccionario_filtrado = {clave: valor for clave, valor in diccionario.items() if not patron.search(clave)}\n",
    "    return diccionario_filtrado"
   ]
  },
  {
   "cell_type": "code",
   "execution_count": null,
   "metadata": {},
   "outputs": [],
   "source": [
    "# #esta funcion nos permitira quitar los ids dentro de cada columna, solo quedandonos con datos como nombre, trabajo, etc\n",
    "# import re\n",
    "# def eliminar_claves_id(diccionario):\n",
    "#     patron = re.compile(r'\\b\\w*id\\w*\\b', flags=re.IGNORECASE)\n",
    "#     diccionario_filtrado = {clave: valor for clave, valor in diccionario.items() if not patron.search(clave)}\n",
    "#     return diccionario_filtrado"
   ]
  },
  {
   "attachments": {},
   "cell_type": "markdown",
   "metadata": {},
   "source": [
    "## PODEMOS ELIMINAR EL DATASET DE CREDITS, YA QU ELO DIVIDIMOS EN 2 Y REDUJIMOS US TAMAÑO\n",
    "\n",
    "esta en credits_Cast_ETL.csv y credits_crew_ETL.csv"
   ]
  },
  {
   "attachments": {},
   "cell_type": "markdown",
   "metadata": {},
   "source": [
    "## limpieza credits_Cast_ETL.csv y credits_crew_ETL.csv"
   ]
  },
  {
   "cell_type": "code",
   "execution_count": 286,
   "metadata": {},
   "outputs": [],
   "source": [
    "import pandas as pd\n",
    "import re"
   ]
  },
  {
   "cell_type": "code",
   "execution_count": 287,
   "metadata": {},
   "outputs": [],
   "source": [
    "#cargamos los csv en los que se ETL\n",
    "\n",
    "df_Cast = pd.read_csv('ETL\\credits_Cast_ETL.csv')\n",
    "df_crew = pd.read_csv('ETL\\credits_crew_ETL.csv')"
   ]
  },
  {
   "cell_type": "code",
   "execution_count": 288,
   "metadata": {},
   "outputs": [
    {
     "data": {
      "text/html": [
       "<div>\n",
       "<style scoped>\n",
       "    .dataframe tbody tr th:only-of-type {\n",
       "        vertical-align: middle;\n",
       "    }\n",
       "\n",
       "    .dataframe tbody tr th {\n",
       "        vertical-align: top;\n",
       "    }\n",
       "\n",
       "    .dataframe thead th {\n",
       "        text-align: right;\n",
       "    }\n",
       "</style>\n",
       "<table border=\"1\" class=\"dataframe\">\n",
       "  <thead>\n",
       "    <tr style=\"text-align: right;\">\n",
       "      <th></th>\n",
       "      <th>cast</th>\n",
       "      <th>id</th>\n",
       "    </tr>\n",
       "  </thead>\n",
       "  <tbody>\n",
       "    <tr>\n",
       "      <th>0</th>\n",
       "      <td>[{'character': 'Woody (voice)', 'gender': 2, '...</td>\n",
       "      <td>862</td>\n",
       "    </tr>\n",
       "  </tbody>\n",
       "</table>\n",
       "</div>"
      ],
      "text/plain": [
       "                                                cast   id\n",
       "0  [{'character': 'Woody (voice)', 'gender': 2, '...  862"
      ]
     },
     "execution_count": 288,
     "metadata": {},
     "output_type": "execute_result"
    }
   ],
   "source": [
    "df_Cast.head(1)\n"
   ]
  },
  {
   "cell_type": "code",
   "execution_count": 289,
   "metadata": {},
   "outputs": [
    {
     "data": {
      "text/html": [
       "<div>\n",
       "<style scoped>\n",
       "    .dataframe tbody tr th:only-of-type {\n",
       "        vertical-align: middle;\n",
       "    }\n",
       "\n",
       "    .dataframe tbody tr th {\n",
       "        vertical-align: top;\n",
       "    }\n",
       "\n",
       "    .dataframe thead th {\n",
       "        text-align: right;\n",
       "    }\n",
       "</style>\n",
       "<table border=\"1\" class=\"dataframe\">\n",
       "  <thead>\n",
       "    <tr style=\"text-align: right;\">\n",
       "      <th></th>\n",
       "      <th>crew</th>\n",
       "      <th>id</th>\n",
       "    </tr>\n",
       "  </thead>\n",
       "  <tbody>\n",
       "    <tr>\n",
       "      <th>0</th>\n",
       "      <td>[{'department': 'Directing', 'gender': 2, 'job...</td>\n",
       "      <td>862</td>\n",
       "    </tr>\n",
       "  </tbody>\n",
       "</table>\n",
       "</div>"
      ],
      "text/plain": [
       "                                                crew   id\n",
       "0  [{'department': 'Directing', 'gender': 2, 'job...  862"
      ]
     },
     "execution_count": 289,
     "metadata": {},
     "output_type": "execute_result"
    }
   ],
   "source": [
    "df_crew.head(1)"
   ]
  },
  {
   "cell_type": "code",
   "execution_count": 290,
   "metadata": {},
   "outputs": [
    {
     "name": "stdout",
     "output_type": "stream",
     "text": [
      "<class 'str'> <class 'str'>\n"
     ]
    }
   ],
   "source": [
    "print(type (df_Cast.iloc[0,0]), type (df_crew.iloc[0,0]))"
   ]
  },
  {
   "cell_type": "code",
   "execution_count": 291,
   "metadata": {},
   "outputs": [],
   "source": [
    "#cambiamos el tipo de dato de la columna cast de str a list\n",
    "df_Cast['cast'] = df_Cast['cast'].apply(lambda x: eval(x))\n",
    "df_crew['crew'] = df_crew['crew'].apply(lambda x: eval(x))\n"
   ]
  },
  {
   "cell_type": "code",
   "execution_count": 292,
   "metadata": {},
   "outputs": [
    {
     "name": "stdout",
     "output_type": "stream",
     "text": [
      "<class 'list'> <class 'list'>\n"
     ]
    }
   ],
   "source": [
    "print(type (df_Cast.iloc[0,0]), type (df_crew.iloc[0,0]))"
   ]
  },
  {
   "attachments": {},
   "cell_type": "markdown",
   "metadata": {},
   "source": [
    "## CAST"
   ]
  },
  {
   "cell_type": "code",
   "execution_count": 294,
   "metadata": {},
   "outputs": [],
   "source": [
    "# Filtrar los diccionarios para eliminar las claves no deseadas o que no seran de utilidad\n",
    "patrones = re.compile(r'profile_path|gender|order')\n",
    "df_Cast['cast'] = df_Cast['cast'].apply(lambda lista: [{k: v for k, v in diccionario.items() if not patrones.search(k)} for diccionario in lista])\n"
   ]
  },
  {
   "cell_type": "code",
   "execution_count": 295,
   "metadata": {},
   "outputs": [
    {
     "data": {
      "text/plain": [
       "[{'character': 'Woody (voice)', 'name': 'Tom Hanks'},\n",
       " {'character': 'Buzz Lightyear (voice)', 'name': 'Tim Allen'},\n",
       " {'character': 'Mr. Potato Head (voice)', 'name': 'Don Rickles'},\n",
       " {'character': 'Slinky Dog (voice)', 'name': 'Jim Varney'},\n",
       " {'character': 'Rex (voice)', 'name': 'Wallace Shawn'},\n",
       " {'character': 'Hamm (voice)', 'name': 'John Ratzenberger'},\n",
       " {'character': 'Bo Peep (voice)', 'name': 'Annie Potts'},\n",
       " {'character': 'Andy (voice)', 'name': 'John Morris'},\n",
       " {'character': 'Sid (voice)', 'name': 'Erik von Detten'},\n",
       " {'character': 'Mrs. Davis (voice)', 'name': 'Laurie Metcalf'},\n",
       " {'character': 'Sergeant (voice)', 'name': 'R. Lee Ermey'},\n",
       " {'character': 'Hannah (voice)', 'name': 'Sarah Freeman'},\n",
       " {'character': 'TV Announcer (voice)', 'name': 'Penn Jillette'}]"
      ]
     },
     "execution_count": 295,
     "metadata": {},
     "output_type": "execute_result"
    }
   ],
   "source": [
    "#verificamos\n",
    "\n",
    "df_Cast.iloc[0,0]"
   ]
  },
  {
   "cell_type": "code",
   "execution_count": 296,
   "metadata": {},
   "outputs": [
    {
     "data": {
      "text/plain": [
       "cast    0\n",
       "id      0\n",
       "dtype: int64"
      ]
     },
     "execution_count": 296,
     "metadata": {},
     "output_type": "execute_result"
    }
   ],
   "source": [
    "df_Cast.isnull().sum()"
   ]
  },
  {
   "cell_type": "code",
   "execution_count": 297,
   "metadata": {},
   "outputs": [],
   "source": [
    "# Crea una lista para almacenar las claves únicas de los diccionarios de la columna cast en df_Cast\n",
    "keys_cast = []\n",
    "\n",
    "# Itera sobre cada fila del DataFrame\n",
    "for index, row in df_Cast.iterrows():\n",
    "    # Accede a la lista de diccionarios en la columna \"crew\" de la fila actual\n",
    "    Cast_list = row['cast'] \n",
    "    # Itera sobre cada diccionario en la lista\n",
    "    for dictionary in Cast_list:\n",
    "        # Obtiene las claves del diccionario\n",
    "        keys_cast.extend(dictionary.keys())"
   ]
  },
  {
   "cell_type": "code",
   "execution_count": 298,
   "metadata": {},
   "outputs": [],
   "source": [
    "#eliminamos las keys repetidas\n",
    "keys_cast = set(keys_cast)"
   ]
  },
  {
   "cell_type": "code",
   "execution_count": 299,
   "metadata": {},
   "outputs": [],
   "source": [
    "#asignamos las keys como nueva columna en el df para posteriormente rellenar con los datos\n",
    "for i in keys_cast:\n",
    "    df_Cast[i] = ''\n"
   ]
  },
  {
   "cell_type": "code",
   "execution_count": 300,
   "metadata": {},
   "outputs": [
    {
     "data": {
      "text/html": [
       "<div>\n",
       "<style scoped>\n",
       "    .dataframe tbody tr th:only-of-type {\n",
       "        vertical-align: middle;\n",
       "    }\n",
       "\n",
       "    .dataframe tbody tr th {\n",
       "        vertical-align: top;\n",
       "    }\n",
       "\n",
       "    .dataframe thead th {\n",
       "        text-align: right;\n",
       "    }\n",
       "</style>\n",
       "<table border=\"1\" class=\"dataframe\">\n",
       "  <thead>\n",
       "    <tr style=\"text-align: right;\">\n",
       "      <th></th>\n",
       "      <th>cast</th>\n",
       "      <th>id</th>\n",
       "      <th>character</th>\n",
       "      <th>name</th>\n",
       "    </tr>\n",
       "  </thead>\n",
       "  <tbody>\n",
       "    <tr>\n",
       "      <th>0</th>\n",
       "      <td>[{'character': 'Woody (voice)', 'name': 'Tom H...</td>\n",
       "      <td>862</td>\n",
       "      <td></td>\n",
       "      <td></td>\n",
       "    </tr>\n",
       "    <tr>\n",
       "      <th>1</th>\n",
       "      <td>[{'character': 'Alan Parrish', 'name': 'Robin ...</td>\n",
       "      <td>8844</td>\n",
       "      <td></td>\n",
       "      <td></td>\n",
       "    </tr>\n",
       "    <tr>\n",
       "      <th>2</th>\n",
       "      <td>[{'character': 'Max Goldman', 'name': 'Walter ...</td>\n",
       "      <td>15602</td>\n",
       "      <td></td>\n",
       "      <td></td>\n",
       "    </tr>\n",
       "    <tr>\n",
       "      <th>3</th>\n",
       "      <td>[{'character': 'Savannah 'Vannah' Jackson', 'n...</td>\n",
       "      <td>31357</td>\n",
       "      <td></td>\n",
       "      <td></td>\n",
       "    </tr>\n",
       "    <tr>\n",
       "      <th>4</th>\n",
       "      <td>[{'character': 'George Banks', 'name': 'Steve ...</td>\n",
       "      <td>11862</td>\n",
       "      <td></td>\n",
       "      <td></td>\n",
       "    </tr>\n",
       "  </tbody>\n",
       "</table>\n",
       "</div>"
      ],
      "text/plain": [
       "                                                cast     id character name\n",
       "0  [{'character': 'Woody (voice)', 'name': 'Tom H...    862               \n",
       "1  [{'character': 'Alan Parrish', 'name': 'Robin ...   8844               \n",
       "2  [{'character': 'Max Goldman', 'name': 'Walter ...  15602               \n",
       "3  [{'character': 'Savannah 'Vannah' Jackson', 'n...  31357               \n",
       "4  [{'character': 'George Banks', 'name': 'Steve ...  11862               "
      ]
     },
     "execution_count": 300,
     "metadata": {},
     "output_type": "execute_result"
    }
   ],
   "source": [
    "df_Cast.head()"
   ]
  },
  {
   "cell_type": "code",
   "execution_count": 301,
   "metadata": {},
   "outputs": [],
   "source": [
    "#dividios cada fila de la columna cast, hacendo que cada fila contenga un diccionario con datos del nombre\n",
    "#del actor y el id de la pelicula \n",
    "df_Cast=df_Cast.explode('cast')"
   ]
  },
  {
   "cell_type": "code",
   "execution_count": 302,
   "metadata": {},
   "outputs": [
    {
     "data": {
      "text/html": [
       "<div>\n",
       "<style scoped>\n",
       "    .dataframe tbody tr th:only-of-type {\n",
       "        vertical-align: middle;\n",
       "    }\n",
       "\n",
       "    .dataframe tbody tr th {\n",
       "        vertical-align: top;\n",
       "    }\n",
       "\n",
       "    .dataframe thead th {\n",
       "        text-align: right;\n",
       "    }\n",
       "</style>\n",
       "<table border=\"1\" class=\"dataframe\">\n",
       "  <thead>\n",
       "    <tr style=\"text-align: right;\">\n",
       "      <th></th>\n",
       "      <th>cast</th>\n",
       "      <th>id</th>\n",
       "      <th>character</th>\n",
       "      <th>name</th>\n",
       "    </tr>\n",
       "  </thead>\n",
       "  <tbody>\n",
       "    <tr>\n",
       "      <th>0</th>\n",
       "      <td>{'character': 'Woody (voice)', 'name': 'Tom Ha...</td>\n",
       "      <td>862</td>\n",
       "      <td></td>\n",
       "      <td></td>\n",
       "    </tr>\n",
       "    <tr>\n",
       "      <th>0</th>\n",
       "      <td>{'character': 'Buzz Lightyear (voice)', 'name'...</td>\n",
       "      <td>862</td>\n",
       "      <td></td>\n",
       "      <td></td>\n",
       "    </tr>\n",
       "    <tr>\n",
       "      <th>0</th>\n",
       "      <td>{'character': 'Mr. Potato Head (voice)', 'name...</td>\n",
       "      <td>862</td>\n",
       "      <td></td>\n",
       "      <td></td>\n",
       "    </tr>\n",
       "    <tr>\n",
       "      <th>0</th>\n",
       "      <td>{'character': 'Slinky Dog (voice)', 'name': 'J...</td>\n",
       "      <td>862</td>\n",
       "      <td></td>\n",
       "      <td></td>\n",
       "    </tr>\n",
       "    <tr>\n",
       "      <th>0</th>\n",
       "      <td>{'character': 'Rex (voice)', 'name': 'Wallace ...</td>\n",
       "      <td>862</td>\n",
       "      <td></td>\n",
       "      <td></td>\n",
       "    </tr>\n",
       "  </tbody>\n",
       "</table>\n",
       "</div>"
      ],
      "text/plain": [
       "                                                cast   id character name\n",
       "0  {'character': 'Woody (voice)', 'name': 'Tom Ha...  862               \n",
       "0  {'character': 'Buzz Lightyear (voice)', 'name'...  862               \n",
       "0  {'character': 'Mr. Potato Head (voice)', 'name...  862               \n",
       "0  {'character': 'Slinky Dog (voice)', 'name': 'J...  862               \n",
       "0  {'character': 'Rex (voice)', 'name': 'Wallace ...  862               "
      ]
     },
     "execution_count": 302,
     "metadata": {},
     "output_type": "execute_result"
    }
   ],
   "source": [
    "df_Cast.head()"
   ]
  },
  {
   "cell_type": "code",
   "execution_count": 303,
   "metadata": {},
   "outputs": [
    {
     "data": {
      "text/plain": [
       "cast         2418\n",
       "id              0\n",
       "character       0\n",
       "name            0\n",
       "dtype: int64"
      ]
     },
     "execution_count": 303,
     "metadata": {},
     "output_type": "execute_result"
    }
   ],
   "source": [
    "df_Cast.isnull().sum()"
   ]
  },
  {
   "cell_type": "code",
   "execution_count": 304,
   "metadata": {},
   "outputs": [],
   "source": [
    "#eliminamos nulos luego de verificar que se ecuentran en la coluna cast\n",
    "df_Cast = df_Cast.dropna(subset=['cast'])"
   ]
  },
  {
   "cell_type": "code",
   "execution_count": 305,
   "metadata": {},
   "outputs": [
    {
     "data": {
      "text/plain": [
       "cast         0\n",
       "id           0\n",
       "character    0\n",
       "name         0\n",
       "dtype: int64"
      ]
     },
     "execution_count": 305,
     "metadata": {},
     "output_type": "execute_result"
    }
   ],
   "source": [
    "df_Cast.isnull().sum()"
   ]
  },
  {
   "cell_type": "code",
   "execution_count": 306,
   "metadata": {},
   "outputs": [],
   "source": [
    "# Definir una función para extraer los valores de las keys \"character\" y \"name\"\n",
    "def extraer_valores(diccionario):\n",
    "    return diccionario.get(\"character\"), diccionario.get(\"name\")"
   ]
  },
  {
   "cell_type": "code",
   "execution_count": 308,
   "metadata": {},
   "outputs": [],
   "source": [
    "# Aplicar la función a la columna \"cast\" y asignar los valores a las nuevas columnas\n",
    "df_Cast[[\"character\", \"name\"]] = df_Cast[\"cast\"].apply(lambda x: pd.Series(extraer_valores(x)))\n",
    "\n"
   ]
  },
  {
   "cell_type": "code",
   "execution_count": 309,
   "metadata": {},
   "outputs": [
    {
     "data": {
      "text/html": [
       "<div>\n",
       "<style scoped>\n",
       "    .dataframe tbody tr th:only-of-type {\n",
       "        vertical-align: middle;\n",
       "    }\n",
       "\n",
       "    .dataframe tbody tr th {\n",
       "        vertical-align: top;\n",
       "    }\n",
       "\n",
       "    .dataframe thead th {\n",
       "        text-align: right;\n",
       "    }\n",
       "</style>\n",
       "<table border=\"1\" class=\"dataframe\">\n",
       "  <thead>\n",
       "    <tr style=\"text-align: right;\">\n",
       "      <th></th>\n",
       "      <th>cast</th>\n",
       "      <th>id</th>\n",
       "      <th>character</th>\n",
       "      <th>name</th>\n",
       "    </tr>\n",
       "  </thead>\n",
       "  <tbody>\n",
       "    <tr>\n",
       "      <th>0</th>\n",
       "      <td>{'character': 'Woody (voice)', 'name': 'Tom Ha...</td>\n",
       "      <td>862</td>\n",
       "      <td>Woody (voice)</td>\n",
       "      <td>Tom Hanks</td>\n",
       "    </tr>\n",
       "    <tr>\n",
       "      <th>0</th>\n",
       "      <td>{'character': 'Buzz Lightyear (voice)', 'name'...</td>\n",
       "      <td>862</td>\n",
       "      <td>Buzz Lightyear (voice)</td>\n",
       "      <td>Tim Allen</td>\n",
       "    </tr>\n",
       "    <tr>\n",
       "      <th>0</th>\n",
       "      <td>{'character': 'Mr. Potato Head (voice)', 'name...</td>\n",
       "      <td>862</td>\n",
       "      <td>Mr. Potato Head (voice)</td>\n",
       "      <td>Don Rickles</td>\n",
       "    </tr>\n",
       "    <tr>\n",
       "      <th>0</th>\n",
       "      <td>{'character': 'Slinky Dog (voice)', 'name': 'J...</td>\n",
       "      <td>862</td>\n",
       "      <td>Slinky Dog (voice)</td>\n",
       "      <td>Jim Varney</td>\n",
       "    </tr>\n",
       "    <tr>\n",
       "      <th>0</th>\n",
       "      <td>{'character': 'Rex (voice)', 'name': 'Wallace ...</td>\n",
       "      <td>862</td>\n",
       "      <td>Rex (voice)</td>\n",
       "      <td>Wallace Shawn</td>\n",
       "    </tr>\n",
       "  </tbody>\n",
       "</table>\n",
       "</div>"
      ],
      "text/plain": [
       "                                                cast   id  \\\n",
       "0  {'character': 'Woody (voice)', 'name': 'Tom Ha...  862   \n",
       "0  {'character': 'Buzz Lightyear (voice)', 'name'...  862   \n",
       "0  {'character': 'Mr. Potato Head (voice)', 'name...  862   \n",
       "0  {'character': 'Slinky Dog (voice)', 'name': 'J...  862   \n",
       "0  {'character': 'Rex (voice)', 'name': 'Wallace ...  862   \n",
       "\n",
       "                 character           name  \n",
       "0            Woody (voice)      Tom Hanks  \n",
       "0   Buzz Lightyear (voice)      Tim Allen  \n",
       "0  Mr. Potato Head (voice)    Don Rickles  \n",
       "0       Slinky Dog (voice)     Jim Varney  \n",
       "0              Rex (voice)  Wallace Shawn  "
      ]
     },
     "execution_count": 309,
     "metadata": {},
     "output_type": "execute_result"
    }
   ],
   "source": [
    "#veriicamos\n",
    "df_Cast.head()"
   ]
  },
  {
   "cell_type": "code",
   "execution_count": 310,
   "metadata": {},
   "outputs": [],
   "source": [
    "# Eliminar la columna \"cast\" si ya no la necesitas\n",
    "df_Cast = df_Cast.drop(\"cast\", axis=1)"
   ]
  },
  {
   "cell_type": "code",
   "execution_count": 311,
   "metadata": {},
   "outputs": [
    {
     "data": {
      "text/html": [
       "<div>\n",
       "<style scoped>\n",
       "    .dataframe tbody tr th:only-of-type {\n",
       "        vertical-align: middle;\n",
       "    }\n",
       "\n",
       "    .dataframe tbody tr th {\n",
       "        vertical-align: top;\n",
       "    }\n",
       "\n",
       "    .dataframe thead th {\n",
       "        text-align: right;\n",
       "    }\n",
       "</style>\n",
       "<table border=\"1\" class=\"dataframe\">\n",
       "  <thead>\n",
       "    <tr style=\"text-align: right;\">\n",
       "      <th></th>\n",
       "      <th>id</th>\n",
       "      <th>character</th>\n",
       "      <th>name</th>\n",
       "    </tr>\n",
       "  </thead>\n",
       "  <tbody>\n",
       "    <tr>\n",
       "      <th>0</th>\n",
       "      <td>862</td>\n",
       "      <td>Woody (voice)</td>\n",
       "      <td>Tom Hanks</td>\n",
       "    </tr>\n",
       "    <tr>\n",
       "      <th>0</th>\n",
       "      <td>862</td>\n",
       "      <td>Buzz Lightyear (voice)</td>\n",
       "      <td>Tim Allen</td>\n",
       "    </tr>\n",
       "    <tr>\n",
       "      <th>0</th>\n",
       "      <td>862</td>\n",
       "      <td>Mr. Potato Head (voice)</td>\n",
       "      <td>Don Rickles</td>\n",
       "    </tr>\n",
       "    <tr>\n",
       "      <th>0</th>\n",
       "      <td>862</td>\n",
       "      <td>Slinky Dog (voice)</td>\n",
       "      <td>Jim Varney</td>\n",
       "    </tr>\n",
       "    <tr>\n",
       "      <th>0</th>\n",
       "      <td>862</td>\n",
       "      <td>Rex (voice)</td>\n",
       "      <td>Wallace Shawn</td>\n",
       "    </tr>\n",
       "  </tbody>\n",
       "</table>\n",
       "</div>"
      ],
      "text/plain": [
       "    id                character           name\n",
       "0  862            Woody (voice)      Tom Hanks\n",
       "0  862   Buzz Lightyear (voice)      Tim Allen\n",
       "0  862  Mr. Potato Head (voice)    Don Rickles\n",
       "0  862       Slinky Dog (voice)     Jim Varney\n",
       "0  862              Rex (voice)  Wallace Shawn"
      ]
     },
     "execution_count": 311,
     "metadata": {},
     "output_type": "execute_result"
    }
   ],
   "source": [
    "df_Cast.head()"
   ]
  },
  {
   "cell_type": "code",
   "execution_count": 312,
   "metadata": {},
   "outputs": [],
   "source": [
    "df_Cast.to_csv('ETL\\credits_Cast_ETL.csv', index=False)"
   ]
  },
  {
   "attachments": {},
   "cell_type": "markdown",
   "metadata": {},
   "source": []
  },
  {
   "attachments": {},
   "cell_type": "markdown",
   "metadata": {},
   "source": [
    "## CREW"
   ]
  },
  {
   "cell_type": "code",
   "execution_count": 260,
   "metadata": {},
   "outputs": [
    {
     "data": {
      "text/html": [
       "<div>\n",
       "<style scoped>\n",
       "    .dataframe tbody tr th:only-of-type {\n",
       "        vertical-align: middle;\n",
       "    }\n",
       "\n",
       "    .dataframe tbody tr th {\n",
       "        vertical-align: top;\n",
       "    }\n",
       "\n",
       "    .dataframe thead th {\n",
       "        text-align: right;\n",
       "    }\n",
       "</style>\n",
       "<table border=\"1\" class=\"dataframe\">\n",
       "  <thead>\n",
       "    <tr style=\"text-align: right;\">\n",
       "      <th></th>\n",
       "      <th>crew</th>\n",
       "      <th>id</th>\n",
       "    </tr>\n",
       "  </thead>\n",
       "  <tbody>\n",
       "    <tr>\n",
       "      <th>0</th>\n",
       "      <td>[{'department': 'Directing', 'job': 'Director'...</td>\n",
       "      <td>862</td>\n",
       "    </tr>\n",
       "  </tbody>\n",
       "</table>\n",
       "</div>"
      ],
      "text/plain": [
       "                                                crew   id\n",
       "0  [{'department': 'Directing', 'job': 'Director'...  862"
      ]
     },
     "execution_count": 260,
     "metadata": {},
     "output_type": "execute_result"
    }
   ],
   "source": [
    "df_crew.head(1)"
   ]
  },
  {
   "cell_type": "code",
   "execution_count": 256,
   "metadata": {},
   "outputs": [],
   "source": [
    "# Filtrar los diccionarios para eliminar las claves no deseadas o que no seran de utilidad\n",
    "patrones = re.compile(r'profile_path|gender')\n",
    "df_crew['crew'] = df_crew['crew'].apply(lambda lista: [{k: v for k, v in diccionario.items() if not patrones.search(k)} for diccionario in lista])\n"
   ]
  },
  {
   "cell_type": "code",
   "execution_count": 258,
   "metadata": {},
   "outputs": [
    {
     "data": {
      "text/plain": [
       "[{'department': 'Directing', 'job': 'Director', 'name': 'John Lasseter'},\n",
       " {'department': 'Writing', 'job': 'Screenplay', 'name': 'Joss Whedon'},\n",
       " {'department': 'Writing', 'job': 'Screenplay', 'name': 'Andrew Stanton'},\n",
       " {'department': 'Writing', 'job': 'Screenplay', 'name': 'Joel Cohen'},\n",
       " {'department': 'Writing', 'job': 'Screenplay', 'name': 'Alec Sokolow'},\n",
       " {'department': 'Production', 'job': 'Producer', 'name': 'Bonnie Arnold'},\n",
       " {'department': 'Production',\n",
       "  'job': 'Executive Producer',\n",
       "  'name': 'Ed Catmull'},\n",
       " {'department': 'Production', 'job': 'Producer', 'name': 'Ralph Guggenheim'},\n",
       " {'department': 'Production',\n",
       "  'job': 'Executive Producer',\n",
       "  'name': 'Steve Jobs'},\n",
       " {'department': 'Editing', 'job': 'Editor', 'name': 'Lee Unkrich'},\n",
       " {'department': 'Art', 'job': 'Art Direction', 'name': 'Ralph Eggleston'},\n",
       " {'department': 'Editing', 'job': 'Editor', 'name': 'Robert Gordon'},\n",
       " {'department': 'Sound', 'job': 'Foley Editor', 'name': 'Mary Helen Leasman'},\n",
       " {'department': 'Visual Effects',\n",
       "  'job': 'Animation',\n",
       "  'name': 'Kim Blanchette'},\n",
       " {'department': 'Sound', 'job': 'ADR Editor', 'name': 'Marilyn McCoppen'},\n",
       " {'department': 'Sound', 'job': 'Orchestrator', 'name': 'Randy Newman'},\n",
       " {'department': 'Editing', 'job': 'Color Timer', 'name': 'Dale E. Grahn'},\n",
       " {'department': 'Visual Effects', 'job': 'CG Painter', 'name': 'Robin Cooper'},\n",
       " {'department': 'Writing', 'job': 'Original Story', 'name': 'John Lasseter'},\n",
       " {'department': 'Writing', 'job': 'Original Story', 'name': 'Pete Docter'},\n",
       " {'department': 'Writing', 'job': 'Original Story', 'name': 'Joe Ranft'},\n",
       " {'department': 'Crew',\n",
       "  'job': 'Post Production Supervisor',\n",
       "  'name': 'Patsy Bouge'},\n",
       " {'department': 'Art', 'job': 'Sculptor', 'name': 'Norm DeCarlo'},\n",
       " {'department': 'Visual Effects',\n",
       "  'job': 'Animation Director',\n",
       "  'name': 'Ash Brannon'},\n",
       " {'department': 'Sound', 'job': 'Music', 'name': 'Randy Newman'},\n",
       " {'department': 'Directing', 'job': 'Layout', 'name': 'Roman Figun'},\n",
       " {'department': 'Sound', 'job': 'Orchestrator', 'name': 'Don Davis'},\n",
       " {'department': 'Sound', 'job': 'Music Editor', 'name': 'James Flamberg'},\n",
       " {'department': 'Editing',\n",
       "  'job': 'Negative Cutter',\n",
       "  'name': 'Mary Beth Smith'},\n",
       " {'department': 'Editing', 'job': 'Negative Cutter', 'name': 'Rick Mackay'},\n",
       " {'department': 'Art', 'job': 'Title Designer', 'name': 'Susan Bradley'},\n",
       " {'department': 'Crew',\n",
       "  'job': 'Supervising Technical Director',\n",
       "  'name': 'William Reeves'},\n",
       " {'department': 'Sound', 'job': 'Songs', 'name': 'Randy Newman'},\n",
       " {'department': 'Writing', 'job': 'Original Story', 'name': 'Andrew Stanton'},\n",
       " {'department': 'Crew', 'job': 'Supervising Animator', 'name': 'Pete Docter'},\n",
       " {'department': 'Sound', 'job': 'Sound Designer', 'name': 'Gary Rydstrom'},\n",
       " {'department': 'Production',\n",
       "  'job': 'Production Supervisor',\n",
       "  'name': 'Karen Robert Jackson'},\n",
       " {'department': 'Crew',\n",
       "  'job': 'Executive Music Producer',\n",
       "  'name': 'Chris Montan'},\n",
       " {'department': 'Visual Effects',\n",
       "  'job': 'Animation Director',\n",
       "  'name': 'Rich Quade'},\n",
       " {'department': 'Visual Effects',\n",
       "  'job': 'Animation',\n",
       "  'name': 'Michael Berenstein'},\n",
       " {'department': 'Visual Effects', 'job': 'Animation', 'name': 'Colin Brady'},\n",
       " {'department': 'Visual Effects',\n",
       "  'job': 'Animation',\n",
       "  'name': 'Davey Crockett Feiten'},\n",
       " {'department': 'Visual Effects', 'job': 'Animation', 'name': 'Angie Glocka'},\n",
       " {'department': 'Visual Effects', 'job': 'Animation', 'name': 'Rex Grignon'},\n",
       " {'department': 'Visual Effects', 'job': 'Animation', 'name': 'Tom K. Gurney'},\n",
       " {'department': 'Visual Effects', 'job': 'Animation', 'name': 'Jimmy Hayward'},\n",
       " {'department': 'Visual Effects', 'job': 'Animation', 'name': 'Hal T. Hickel'},\n",
       " {'department': 'Visual Effects', 'job': 'Animation', 'name': 'Karen Kiser'},\n",
       " {'department': 'Visual Effects',\n",
       "  'job': 'Animation',\n",
       "  'name': 'Anthony B. LaMolinara'},\n",
       " {'department': 'Visual Effects', 'job': 'Animation', 'name': 'Guionne Leroy'},\n",
       " {'department': 'Visual Effects', 'job': 'Animation', 'name': 'Bud Luckey'},\n",
       " {'department': 'Visual Effects', 'job': 'Animation', 'name': 'Les Major'},\n",
       " {'department': 'Visual Effects', 'job': 'Animation', 'name': 'Glenn McQueen'},\n",
       " {'department': 'Visual Effects', 'job': 'Animation', 'name': 'Mark Oftedal'},\n",
       " {'department': 'Visual Effects', 'job': 'Animation', 'name': 'Jeff Pidgeon'},\n",
       " {'department': 'Visual Effects', 'job': 'Animation', 'name': 'Jeff Pratt'},\n",
       " {'department': 'Visual Effects',\n",
       "  'job': 'Animation',\n",
       "  'name': 'Steve Rabatich'},\n",
       " {'department': 'Visual Effects', 'job': 'Animation', 'name': 'Roger Rose'},\n",
       " {'department': 'Visual Effects', 'job': 'Animation', 'name': 'Steve Segal'},\n",
       " {'department': 'Visual Effects', 'job': 'Animation', 'name': 'Doug Sheppeck'},\n",
       " {'department': 'Visual Effects', 'job': 'Animation', 'name': 'Alan Sperling'},\n",
       " {'department': 'Visual Effects',\n",
       "  'job': 'Animation',\n",
       "  'name': 'Doug Sweetland'},\n",
       " {'department': 'Visual Effects', 'job': 'Animation', 'name': 'David Tart'},\n",
       " {'department': 'Visual Effects', 'job': 'Animation', 'name': 'Ken Willard'},\n",
       " {'department': 'Visual Effects',\n",
       "  'job': 'Visual Effects Supervisor',\n",
       "  'name': 'Thomas Porter'},\n",
       " {'department': 'Visual Effects',\n",
       "  'job': 'Visual Effects',\n",
       "  'name': 'Mark Thomas Henne'},\n",
       " {'department': 'Visual Effects',\n",
       "  'job': 'Visual Effects',\n",
       "  'name': 'Oren Jacob'},\n",
       " {'department': 'Visual Effects',\n",
       "  'job': 'Visual Effects',\n",
       "  'name': 'Darwyn Peachey'},\n",
       " {'department': 'Visual Effects',\n",
       "  'job': 'Visual Effects',\n",
       "  'name': 'Mitch Prater'},\n",
       " {'department': 'Visual Effects',\n",
       "  'job': 'Visual Effects',\n",
       "  'name': 'Brian M. Rosen'},\n",
       " {'department': 'Lighting',\n",
       "  'job': 'Lighting Supervisor',\n",
       "  'name': 'Sharon Calahan'},\n",
       " {'department': 'Lighting',\n",
       "  'job': 'Lighting Supervisor',\n",
       "  'name': 'Galyn Susman'},\n",
       " {'department': 'Visual Effects', 'job': 'CG Painter', 'name': 'William Cone'},\n",
       " {'department': 'Art', 'job': 'Sculptor', 'name': 'Shelley Daniels Lekven'},\n",
       " {'department': 'Visual Effects',\n",
       "  'job': 'Character Designer',\n",
       "  'name': 'Bob Pauley'},\n",
       " {'department': 'Visual Effects',\n",
       "  'job': 'Character Designer',\n",
       "  'name': 'Bud Luckey'},\n",
       " {'department': 'Visual Effects',\n",
       "  'job': 'Character Designer',\n",
       "  'name': 'Andrew Stanton'},\n",
       " {'department': 'Visual Effects',\n",
       "  'job': 'Character Designer',\n",
       "  'name': 'William Cone'},\n",
       " {'department': 'Visual Effects',\n",
       "  'job': 'Character Designer',\n",
       "  'name': 'Steve Johnson'},\n",
       " {'department': 'Visual Effects',\n",
       "  'job': 'Character Designer',\n",
       "  'name': 'Dan Haskett'},\n",
       " {'department': 'Visual Effects',\n",
       "  'job': 'Character Designer',\n",
       "  'name': 'Tom Holloway'},\n",
       " {'department': 'Visual Effects',\n",
       "  'job': 'Character Designer',\n",
       "  'name': 'Jean Gillmore'},\n",
       " {'department': 'Directing', 'job': 'Layout', 'name': 'Desirée Mourad'},\n",
       " {'department': 'Art', 'job': 'Set Dresser', 'name': \"Kelly O'Connell\"},\n",
       " {'department': 'Art', 'job': 'Set Dresser', 'name': 'Sonoko Konishi'},\n",
       " {'department': 'Art', 'job': 'Set Dresser', 'name': 'Ann M. Rockwell'},\n",
       " {'department': 'Editing',\n",
       "  'job': 'Editorial Manager',\n",
       "  'name': 'Julie M. McDonald'},\n",
       " {'department': 'Editing', 'job': 'Assistant Editor', 'name': 'Robin Lee'},\n",
       " {'department': 'Editing', 'job': 'Assistant Editor', 'name': 'Tom Freeman'},\n",
       " {'department': 'Editing', 'job': 'Assistant Editor', 'name': 'Ada Cochavi'},\n",
       " {'department': 'Editing', 'job': 'Assistant Editor', 'name': 'Dana Mulligan'},\n",
       " {'department': 'Editing',\n",
       "  'job': 'Editorial Coordinator',\n",
       "  'name': 'Deirdre Morrison'},\n",
       " {'department': 'Production',\n",
       "  'job': 'Production Coordinator',\n",
       "  'name': 'Lori Lombardo'},\n",
       " {'department': 'Production',\n",
       "  'job': 'Production Coordinator',\n",
       "  'name': 'Ellen Devine'},\n",
       " {'department': 'Crew',\n",
       "  'job': 'Unit Publicist',\n",
       "  'name': 'Lauren Beth Strogoff'},\n",
       " {'department': 'Sound',\n",
       "  'job': 'Sound Re-Recording Mixer',\n",
       "  'name': 'Gary Rydstrom'},\n",
       " {'department': 'Sound',\n",
       "  'job': 'Sound Re-Recording Mixer',\n",
       "  'name': 'Gary Summers'},\n",
       " {'department': 'Sound',\n",
       "  'job': 'Supervising Sound Editor',\n",
       "  'name': 'Tim Holland'},\n",
       " {'department': 'Sound', 'job': 'Sound Effects Editor', 'name': 'Pat Jackson'},\n",
       " {'department': 'Crew', 'job': 'Sound Design Assistant', 'name': 'Tom Myers'},\n",
       " {'department': 'Sound',\n",
       "  'job': 'Assistant Sound Editor',\n",
       "  'name': 'J.R. Grubbs'},\n",
       " {'department': 'Sound',\n",
       "  'job': 'Assistant Sound Editor',\n",
       "  'name': 'Susan Sanford'},\n",
       " {'department': 'Sound',\n",
       "  'job': 'Assistant Sound Editor',\n",
       "  'name': 'Susan Popovic'},\n",
       " {'department': 'Sound',\n",
       "  'job': 'Assistant Sound Editor',\n",
       "  'name': 'Dan Engstrom'},\n",
       " {'department': 'Production',\n",
       "  'job': 'Casting Consultant',\n",
       "  'name': 'Ruth Lambert'},\n",
       " {'department': 'Production',\n",
       "  'job': 'ADR Voice Casting',\n",
       "  'name': 'Mickie McGowan'}]"
      ]
     },
     "execution_count": 258,
     "metadata": {},
     "output_type": "execute_result"
    }
   ],
   "source": [
    "#verificamos\n",
    "df_crew.iloc[0,0]"
   ]
  },
  {
   "cell_type": "code",
   "execution_count": 259,
   "metadata": {},
   "outputs": [
    {
     "data": {
      "text/plain": [
       "crew    0\n",
       "id      0\n",
       "dtype: int64"
      ]
     },
     "execution_count": 259,
     "metadata": {},
     "output_type": "execute_result"
    }
   ],
   "source": [
    "df_crew.isnull().sum()"
   ]
  },
  {
   "cell_type": "code",
   "execution_count": 261,
   "metadata": {},
   "outputs": [],
   "source": [
    "# Crea una lista para almacenar las claves únicas de los diccionarios de la columna cast en df_crew\n",
    "keys_crew = []\n",
    "\n",
    "# Itera sobre cada fila del DataFrame\n",
    "for index, row in df_crew.iterrows():\n",
    "    # Accede a la lista de diccionarios en la columna \"crew\" de la fila actual\n",
    "    Crew_list = row['crew'] \n",
    "    # Itera sobre cada diccionario en la lista\n",
    "    for dictionary in Crew_list:\n",
    "        # Obtiene las claves del diccionario\n",
    "        keys_crew.extend(dictionary.keys())"
   ]
  },
  {
   "cell_type": "code",
   "execution_count": 262,
   "metadata": {},
   "outputs": [],
   "source": [
    "#eliminamos las keys repetidas\n",
    "keys_crew = set(keys_crew)"
   ]
  },
  {
   "cell_type": "code",
   "execution_count": 313,
   "metadata": {},
   "outputs": [
    {
     "data": {
      "text/plain": [
       "{'department', 'job', 'name'}"
      ]
     },
     "execution_count": 313,
     "metadata": {},
     "output_type": "execute_result"
    }
   ],
   "source": [
    "keys_crew"
   ]
  },
  {
   "cell_type": "code",
   "execution_count": 314,
   "metadata": {},
   "outputs": [],
   "source": [
    "#asignamos las keys como nueva columna en el df para posteriormente rellenar con los datos\n",
    "for i in keys_crew:\n",
    "    df_crew[i] = ''"
   ]
  },
  {
   "cell_type": "code",
   "execution_count": 315,
   "metadata": {},
   "outputs": [
    {
     "data": {
      "text/html": [
       "<div>\n",
       "<style scoped>\n",
       "    .dataframe tbody tr th:only-of-type {\n",
       "        vertical-align: middle;\n",
       "    }\n",
       "\n",
       "    .dataframe tbody tr th {\n",
       "        vertical-align: top;\n",
       "    }\n",
       "\n",
       "    .dataframe thead th {\n",
       "        text-align: right;\n",
       "    }\n",
       "</style>\n",
       "<table border=\"1\" class=\"dataframe\">\n",
       "  <thead>\n",
       "    <tr style=\"text-align: right;\">\n",
       "      <th></th>\n",
       "      <th>crew</th>\n",
       "      <th>id</th>\n",
       "      <th>job</th>\n",
       "      <th>name</th>\n",
       "      <th>department</th>\n",
       "    </tr>\n",
       "  </thead>\n",
       "  <tbody>\n",
       "    <tr>\n",
       "      <th>0</th>\n",
       "      <td>[{'department': 'Directing', 'gender': 2, 'job...</td>\n",
       "      <td>862</td>\n",
       "      <td></td>\n",
       "      <td></td>\n",
       "      <td></td>\n",
       "    </tr>\n",
       "    <tr>\n",
       "      <th>1</th>\n",
       "      <td>[{'department': 'Production', 'gender': 2, 'jo...</td>\n",
       "      <td>8844</td>\n",
       "      <td></td>\n",
       "      <td></td>\n",
       "      <td></td>\n",
       "    </tr>\n",
       "    <tr>\n",
       "      <th>2</th>\n",
       "      <td>[{'department': 'Directing', 'gender': 2, 'job...</td>\n",
       "      <td>15602</td>\n",
       "      <td></td>\n",
       "      <td></td>\n",
       "      <td></td>\n",
       "    </tr>\n",
       "    <tr>\n",
       "      <th>3</th>\n",
       "      <td>[{'department': 'Directing', 'gender': 2, 'job...</td>\n",
       "      <td>31357</td>\n",
       "      <td></td>\n",
       "      <td></td>\n",
       "      <td></td>\n",
       "    </tr>\n",
       "    <tr>\n",
       "      <th>4</th>\n",
       "      <td>[{'department': 'Sound', 'gender': 2, 'job': '...</td>\n",
       "      <td>11862</td>\n",
       "      <td></td>\n",
       "      <td></td>\n",
       "      <td></td>\n",
       "    </tr>\n",
       "  </tbody>\n",
       "</table>\n",
       "</div>"
      ],
      "text/plain": [
       "                                                crew     id job name  \\\n",
       "0  [{'department': 'Directing', 'gender': 2, 'job...    862            \n",
       "1  [{'department': 'Production', 'gender': 2, 'jo...   8844            \n",
       "2  [{'department': 'Directing', 'gender': 2, 'job...  15602            \n",
       "3  [{'department': 'Directing', 'gender': 2, 'job...  31357            \n",
       "4  [{'department': 'Sound', 'gender': 2, 'job': '...  11862            \n",
       "\n",
       "  department  \n",
       "0             \n",
       "1             \n",
       "2             \n",
       "3             \n",
       "4             "
      ]
     },
     "execution_count": 315,
     "metadata": {},
     "output_type": "execute_result"
    }
   ],
   "source": [
    "df_crew.head()"
   ]
  },
  {
   "cell_type": "code",
   "execution_count": 316,
   "metadata": {},
   "outputs": [],
   "source": [
    "#dividios cada fila de la columna cast, haciendo que cada fila contenga un diccionario con datos del nombre\n",
    "#del trabajador, cargo, el id de la pelicula etc\n",
    "df_crew= df_crew.explode('crew')"
   ]
  },
  {
   "cell_type": "code",
   "execution_count": 317,
   "metadata": {},
   "outputs": [
    {
     "data": {
      "text/html": [
       "<div>\n",
       "<style scoped>\n",
       "    .dataframe tbody tr th:only-of-type {\n",
       "        vertical-align: middle;\n",
       "    }\n",
       "\n",
       "    .dataframe tbody tr th {\n",
       "        vertical-align: top;\n",
       "    }\n",
       "\n",
       "    .dataframe thead th {\n",
       "        text-align: right;\n",
       "    }\n",
       "</style>\n",
       "<table border=\"1\" class=\"dataframe\">\n",
       "  <thead>\n",
       "    <tr style=\"text-align: right;\">\n",
       "      <th></th>\n",
       "      <th>crew</th>\n",
       "      <th>id</th>\n",
       "      <th>job</th>\n",
       "      <th>name</th>\n",
       "      <th>department</th>\n",
       "    </tr>\n",
       "  </thead>\n",
       "  <tbody>\n",
       "    <tr>\n",
       "      <th>0</th>\n",
       "      <td>{'department': 'Directing', 'gender': 2, 'job'...</td>\n",
       "      <td>862</td>\n",
       "      <td></td>\n",
       "      <td></td>\n",
       "      <td></td>\n",
       "    </tr>\n",
       "    <tr>\n",
       "      <th>0</th>\n",
       "      <td>{'department': 'Writing', 'gender': 2, 'job': ...</td>\n",
       "      <td>862</td>\n",
       "      <td></td>\n",
       "      <td></td>\n",
       "      <td></td>\n",
       "    </tr>\n",
       "    <tr>\n",
       "      <th>0</th>\n",
       "      <td>{'department': 'Writing', 'gender': 2, 'job': ...</td>\n",
       "      <td>862</td>\n",
       "      <td></td>\n",
       "      <td></td>\n",
       "      <td></td>\n",
       "    </tr>\n",
       "    <tr>\n",
       "      <th>0</th>\n",
       "      <td>{'department': 'Writing', 'gender': 2, 'job': ...</td>\n",
       "      <td>862</td>\n",
       "      <td></td>\n",
       "      <td></td>\n",
       "      <td></td>\n",
       "    </tr>\n",
       "    <tr>\n",
       "      <th>0</th>\n",
       "      <td>{'department': 'Writing', 'gender': 0, 'job': ...</td>\n",
       "      <td>862</td>\n",
       "      <td></td>\n",
       "      <td></td>\n",
       "      <td></td>\n",
       "    </tr>\n",
       "  </tbody>\n",
       "</table>\n",
       "</div>"
      ],
      "text/plain": [
       "                                                crew   id job name department\n",
       "0  {'department': 'Directing', 'gender': 2, 'job'...  862                    \n",
       "0  {'department': 'Writing', 'gender': 2, 'job': ...  862                    \n",
       "0  {'department': 'Writing', 'gender': 2, 'job': ...  862                    \n",
       "0  {'department': 'Writing', 'gender': 2, 'job': ...  862                    \n",
       "0  {'department': 'Writing', 'gender': 0, 'job': ...  862                    "
      ]
     },
     "execution_count": 317,
     "metadata": {},
     "output_type": "execute_result"
    }
   ],
   "source": [
    "df_crew.head()"
   ]
  },
  {
   "cell_type": "code",
   "execution_count": 318,
   "metadata": {},
   "outputs": [
    {
     "data": {
      "text/plain": [
       "crew          771\n",
       "id              0\n",
       "job             0\n",
       "name            0\n",
       "department      0\n",
       "dtype: int64"
      ]
     },
     "execution_count": 318,
     "metadata": {},
     "output_type": "execute_result"
    }
   ],
   "source": [
    "df_crew.isnull().sum()"
   ]
  },
  {
   "cell_type": "code",
   "execution_count": 319,
   "metadata": {},
   "outputs": [],
   "source": [
    "#eliminamos nulos luego de verificar que se ecuentran en la coluna crew\n",
    "df_crew = df_crew.dropna(subset=['crew'])"
   ]
  },
  {
   "cell_type": "code",
   "execution_count": 320,
   "metadata": {},
   "outputs": [
    {
     "data": {
      "text/plain": [
       "crew          0\n",
       "id            0\n",
       "job           0\n",
       "name          0\n",
       "department    0\n",
       "dtype: int64"
      ]
     },
     "execution_count": 320,
     "metadata": {},
     "output_type": "execute_result"
    }
   ],
   "source": [
    "df_crew.isnull().sum()"
   ]
  },
  {
   "cell_type": "code",
   "execution_count": 56,
   "metadata": {},
   "outputs": [],
   "source": [
    "df_crew['crew'] = df_crew['crew'].apply(ast.literal_eval)"
   ]
  },
  {
   "cell_type": "code",
   "execution_count": 321,
   "metadata": {},
   "outputs": [],
   "source": [
    "# Definir una función para extraer los valores de las keys \"character\" y \"name\"\n",
    "def extraer_valores_crew(diccionario):\n",
    "    return diccionario.get(\"job\"), diccionario.get(\"name\"), diccionario.get(\"department\")"
   ]
  },
  {
   "cell_type": "code",
   "execution_count": 322,
   "metadata": {},
   "outputs": [],
   "source": [
    "# Aplicar la función a la columna \"crew\" y asignar los valores a las nuevas columnas\n",
    "df_crew[['job', 'name', 'department']] = df_crew[\"crew\"].apply(lambda x: pd.Series(extraer_valores_crew(x)))\n"
   ]
  },
  {
   "cell_type": "code",
   "execution_count": 323,
   "metadata": {},
   "outputs": [
    {
     "data": {
      "text/html": [
       "<div>\n",
       "<style scoped>\n",
       "    .dataframe tbody tr th:only-of-type {\n",
       "        vertical-align: middle;\n",
       "    }\n",
       "\n",
       "    .dataframe tbody tr th {\n",
       "        vertical-align: top;\n",
       "    }\n",
       "\n",
       "    .dataframe thead th {\n",
       "        text-align: right;\n",
       "    }\n",
       "</style>\n",
       "<table border=\"1\" class=\"dataframe\">\n",
       "  <thead>\n",
       "    <tr style=\"text-align: right;\">\n",
       "      <th></th>\n",
       "      <th>crew</th>\n",
       "      <th>id</th>\n",
       "      <th>job</th>\n",
       "      <th>name</th>\n",
       "      <th>department</th>\n",
       "    </tr>\n",
       "  </thead>\n",
       "  <tbody>\n",
       "    <tr>\n",
       "      <th>0</th>\n",
       "      <td>{'department': 'Directing', 'gender': 2, 'job'...</td>\n",
       "      <td>862</td>\n",
       "      <td>Director</td>\n",
       "      <td>John Lasseter</td>\n",
       "      <td>Directing</td>\n",
       "    </tr>\n",
       "    <tr>\n",
       "      <th>0</th>\n",
       "      <td>{'department': 'Writing', 'gender': 2, 'job': ...</td>\n",
       "      <td>862</td>\n",
       "      <td>Screenplay</td>\n",
       "      <td>Joss Whedon</td>\n",
       "      <td>Writing</td>\n",
       "    </tr>\n",
       "    <tr>\n",
       "      <th>0</th>\n",
       "      <td>{'department': 'Writing', 'gender': 2, 'job': ...</td>\n",
       "      <td>862</td>\n",
       "      <td>Screenplay</td>\n",
       "      <td>Andrew Stanton</td>\n",
       "      <td>Writing</td>\n",
       "    </tr>\n",
       "    <tr>\n",
       "      <th>0</th>\n",
       "      <td>{'department': 'Writing', 'gender': 2, 'job': ...</td>\n",
       "      <td>862</td>\n",
       "      <td>Screenplay</td>\n",
       "      <td>Joel Cohen</td>\n",
       "      <td>Writing</td>\n",
       "    </tr>\n",
       "    <tr>\n",
       "      <th>0</th>\n",
       "      <td>{'department': 'Writing', 'gender': 0, 'job': ...</td>\n",
       "      <td>862</td>\n",
       "      <td>Screenplay</td>\n",
       "      <td>Alec Sokolow</td>\n",
       "      <td>Writing</td>\n",
       "    </tr>\n",
       "  </tbody>\n",
       "</table>\n",
       "</div>"
      ],
      "text/plain": [
       "                                                crew   id         job  \\\n",
       "0  {'department': 'Directing', 'gender': 2, 'job'...  862    Director   \n",
       "0  {'department': 'Writing', 'gender': 2, 'job': ...  862  Screenplay   \n",
       "0  {'department': 'Writing', 'gender': 2, 'job': ...  862  Screenplay   \n",
       "0  {'department': 'Writing', 'gender': 2, 'job': ...  862  Screenplay   \n",
       "0  {'department': 'Writing', 'gender': 0, 'job': ...  862  Screenplay   \n",
       "\n",
       "             name department  \n",
       "0   John Lasseter  Directing  \n",
       "0     Joss Whedon    Writing  \n",
       "0  Andrew Stanton    Writing  \n",
       "0      Joel Cohen    Writing  \n",
       "0    Alec Sokolow    Writing  "
      ]
     },
     "execution_count": 323,
     "metadata": {},
     "output_type": "execute_result"
    }
   ],
   "source": [
    "#veriicamos\n",
    "df_crew.head()"
   ]
  },
  {
   "cell_type": "code",
   "execution_count": 324,
   "metadata": {},
   "outputs": [],
   "source": [
    "# Eliminar la columna \"crew\" si ya no la necesitas\n",
    "df_crew = df_crew.drop(\"crew\", axis=1)"
   ]
  },
  {
   "cell_type": "code",
   "execution_count": 328,
   "metadata": {},
   "outputs": [
    {
     "data": {
      "text/html": [
       "<div>\n",
       "<style scoped>\n",
       "    .dataframe tbody tr th:only-of-type {\n",
       "        vertical-align: middle;\n",
       "    }\n",
       "\n",
       "    .dataframe tbody tr th {\n",
       "        vertical-align: top;\n",
       "    }\n",
       "\n",
       "    .dataframe thead th {\n",
       "        text-align: right;\n",
       "    }\n",
       "</style>\n",
       "<table border=\"1\" class=\"dataframe\">\n",
       "  <thead>\n",
       "    <tr style=\"text-align: right;\">\n",
       "      <th></th>\n",
       "      <th>id</th>\n",
       "      <th>job</th>\n",
       "      <th>name</th>\n",
       "      <th>department</th>\n",
       "    </tr>\n",
       "  </thead>\n",
       "  <tbody>\n",
       "    <tr>\n",
       "      <th>0</th>\n",
       "      <td>862</td>\n",
       "      <td>Director</td>\n",
       "      <td>John Lasseter</td>\n",
       "      <td>Directing</td>\n",
       "    </tr>\n",
       "    <tr>\n",
       "      <th>0</th>\n",
       "      <td>862</td>\n",
       "      <td>Screenplay</td>\n",
       "      <td>Joss Whedon</td>\n",
       "      <td>Writing</td>\n",
       "    </tr>\n",
       "    <tr>\n",
       "      <th>0</th>\n",
       "      <td>862</td>\n",
       "      <td>Screenplay</td>\n",
       "      <td>Andrew Stanton</td>\n",
       "      <td>Writing</td>\n",
       "    </tr>\n",
       "    <tr>\n",
       "      <th>0</th>\n",
       "      <td>862</td>\n",
       "      <td>Screenplay</td>\n",
       "      <td>Joel Cohen</td>\n",
       "      <td>Writing</td>\n",
       "    </tr>\n",
       "    <tr>\n",
       "      <th>0</th>\n",
       "      <td>862</td>\n",
       "      <td>Screenplay</td>\n",
       "      <td>Alec Sokolow</td>\n",
       "      <td>Writing</td>\n",
       "    </tr>\n",
       "  </tbody>\n",
       "</table>\n",
       "</div>"
      ],
      "text/plain": [
       "    id         job            name department\n",
       "0  862    Director   John Lasseter  Directing\n",
       "0  862  Screenplay     Joss Whedon    Writing\n",
       "0  862  Screenplay  Andrew Stanton    Writing\n",
       "0  862  Screenplay      Joel Cohen    Writing\n",
       "0  862  Screenplay    Alec Sokolow    Writing"
      ]
     },
     "execution_count": 328,
     "metadata": {},
     "output_type": "execute_result"
    }
   ],
   "source": [
    "df_crew.head()"
   ]
  },
  {
   "cell_type": "code",
   "execution_count": 339,
   "metadata": {},
   "outputs": [],
   "source": [
    "#eliminamos los job que no son necesarios\n",
    "#NOTA: si esto debi hacerlo antes xD\n",
    "\n",
    "df_crew = df_crew.loc[df_crew['job'] == 'Director']\n"
   ]
  },
  {
   "cell_type": "code",
   "execution_count": 340,
   "metadata": {},
   "outputs": [
    {
     "data": {
      "text/html": [
       "<div>\n",
       "<style scoped>\n",
       "    .dataframe tbody tr th:only-of-type {\n",
       "        vertical-align: middle;\n",
       "    }\n",
       "\n",
       "    .dataframe tbody tr th {\n",
       "        vertical-align: top;\n",
       "    }\n",
       "\n",
       "    .dataframe thead th {\n",
       "        text-align: right;\n",
       "    }\n",
       "</style>\n",
       "<table border=\"1\" class=\"dataframe\">\n",
       "  <thead>\n",
       "    <tr style=\"text-align: right;\">\n",
       "      <th></th>\n",
       "      <th>id</th>\n",
       "      <th>job</th>\n",
       "      <th>name</th>\n",
       "      <th>department</th>\n",
       "    </tr>\n",
       "  </thead>\n",
       "  <tbody>\n",
       "    <tr>\n",
       "      <th>0</th>\n",
       "      <td>862</td>\n",
       "      <td>Director</td>\n",
       "      <td>John Lasseter</td>\n",
       "      <td>Directing</td>\n",
       "    </tr>\n",
       "    <tr>\n",
       "      <th>1</th>\n",
       "      <td>8844</td>\n",
       "      <td>Director</td>\n",
       "      <td>Joe Johnston</td>\n",
       "      <td>Directing</td>\n",
       "    </tr>\n",
       "    <tr>\n",
       "      <th>2</th>\n",
       "      <td>15602</td>\n",
       "      <td>Director</td>\n",
       "      <td>Howard Deutch</td>\n",
       "      <td>Directing</td>\n",
       "    </tr>\n",
       "    <tr>\n",
       "      <th>3</th>\n",
       "      <td>31357</td>\n",
       "      <td>Director</td>\n",
       "      <td>Forest Whitaker</td>\n",
       "      <td>Directing</td>\n",
       "    </tr>\n",
       "    <tr>\n",
       "      <th>4</th>\n",
       "      <td>11862</td>\n",
       "      <td>Director</td>\n",
       "      <td>Charles Shyer</td>\n",
       "      <td>Directing</td>\n",
       "    </tr>\n",
       "  </tbody>\n",
       "</table>\n",
       "</div>"
      ],
      "text/plain": [
       "      id       job             name department\n",
       "0    862  Director    John Lasseter  Directing\n",
       "1   8844  Director     Joe Johnston  Directing\n",
       "2  15602  Director    Howard Deutch  Directing\n",
       "3  31357  Director  Forest Whitaker  Directing\n",
       "4  11862  Director    Charles Shyer  Directing"
      ]
     },
     "execution_count": 340,
     "metadata": {},
     "output_type": "execute_result"
    }
   ],
   "source": [
    "df_crew.head()"
   ]
  },
  {
   "cell_type": "code",
   "execution_count": 341,
   "metadata": {},
   "outputs": [],
   "source": [
    "df_crew.to_csv('ETL\\credits_crew_ETL.csv', index=False)"
   ]
  }
 ],
 "metadata": {
  "kernelspec": {
   "display_name": "Python 3",
   "language": "python",
   "name": "python3"
  },
  "language_info": {
   "codemirror_mode": {
    "name": "ipython",
    "version": 3
   },
   "file_extension": ".py",
   "mimetype": "text/x-python",
   "name": "python",
   "nbconvert_exporter": "python",
   "pygments_lexer": "ipython3",
   "version": "3.11.1"
  },
  "orig_nbformat": 4
 },
 "nbformat": 4,
 "nbformat_minor": 2
}
